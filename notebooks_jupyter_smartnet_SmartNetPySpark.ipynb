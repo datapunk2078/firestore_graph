{
 "cells": [
  {
   "cell_type": "code",
   "execution_count": 1,
   "metadata": {},
   "outputs": [
    {
     "name": "stdout",
     "output_type": "stream",
     "text": [
      "Requirement already satisfied: koalas in /opt/conda/miniconda3/lib/python3.8/site-packages (1.4.0)\n",
      "Requirement already satisfied: pandas>=0.23.2 in /opt/conda/miniconda3/lib/python3.8/site-packages (from koalas) (1.2.2)\n",
      "Requirement already satisfied: matplotlib>=3.0.0 in /opt/conda/miniconda3/lib/python3.8/site-packages (from koalas) (3.3.4)\n",
      "Requirement already satisfied: numpy>=1.14 in /opt/conda/miniconda3/lib/python3.8/site-packages (from koalas) (1.19.5)\n",
      "Requirement already satisfied: pyarrow>=0.10 in /opt/conda/miniconda3/lib/python3.8/site-packages (from koalas) (2.0.0)\n",
      "Requirement already satisfied: kiwisolver>=1.0.1 in /opt/conda/miniconda3/lib/python3.8/site-packages (from matplotlib>=3.0.0->koalas) (1.3.1)\n",
      "Requirement already satisfied: python-dateutil>=2.1 in /opt/conda/miniconda3/lib/python3.8/site-packages (from matplotlib>=3.0.0->koalas) (2.8.1)\n",
      "Requirement already satisfied: pillow>=6.2.0 in /opt/conda/miniconda3/lib/python3.8/site-packages (from matplotlib>=3.0.0->koalas) (8.1.0)\n",
      "Requirement already satisfied: cycler>=0.10 in /opt/conda/miniconda3/lib/python3.8/site-packages (from matplotlib>=3.0.0->koalas) (0.10.0)\n",
      "Requirement already satisfied: pyparsing!=2.0.4,!=2.1.2,!=2.1.6,>=2.0.3 in /opt/conda/miniconda3/lib/python3.8/site-packages (from matplotlib>=3.0.0->koalas) (2.4.7)\n",
      "Requirement already satisfied: six in /opt/conda/miniconda3/lib/python3.8/site-packages (from cycler>=0.10->matplotlib>=3.0.0->koalas) (1.15.0)\n",
      "Requirement already satisfied: pytz>=2017.3 in /opt/conda/miniconda3/lib/python3.8/site-packages (from pandas>=0.23.2->koalas) (2021.1)\n"
     ]
    }
   ],
   "source": [
    "!pip install koalas"
   ]
  },
  {
   "cell_type": "code",
   "execution_count": 1,
   "metadata": {},
   "outputs": [
    {
     "name": "stderr",
     "output_type": "stream",
     "text": [
      "WARNING:root:'PYARROW_IGNORE_TIMEZONE' environment variable was not set. It is required to set this environment variable to '1' in both driver and executor sides if you use pyarrow>=2.0.0. Koalas will set it for you but it does not work if there is a Spark context already launched.\n"
     ]
    }
   ],
   "source": [
    "import pandas as pd\n",
    "import numpy as np\n",
    "import databricks.koalas as ks\n",
    "\n",
    "import argparse\n",
    "from collections import defaultdict\n",
    "import datetime\n",
    "from pprint import pprint\n",
    "from google.cloud import datastore\n",
    "import google.cloud.exceptions\n",
    "\n",
    "from databricks.koalas.config import option_context\n",
    "\n",
    "from databricks.koalas.config import set_option, get_option\n",
    "\n",
    "\n",
    "from pyspark.sql.functions import col, pandas_udf\n",
    "from pyspark.sql.types import LongType"
   ]
  },
  {
   "cell_type": "code",
   "execution_count": 2,
   "metadata": {},
   "outputs": [
    {
     "data": {
      "text/plain": [
       "1000"
      ]
     },
     "execution_count": 2,
     "metadata": {},
     "output_type": "execute_result"
    }
   ],
   "source": [
    "ks.get_option('compute.max_rows')"
   ]
  },
  {
   "cell_type": "code",
   "execution_count": 3,
   "metadata": {},
   "outputs": [
    {
     "data": {
      "text/plain": [
       "100000"
      ]
     },
     "execution_count": 3,
     "metadata": {},
     "output_type": "execute_result"
    }
   ],
   "source": [
    "ks.set_option('compute.max_rows', 100000)\n",
    "ks.get_option('compute.max_rows')"
   ]
  },
  {
   "cell_type": "code",
   "execution_count": 4,
   "metadata": {},
   "outputs": [
    {
     "data": {
      "text/plain": [
       "1000"
      ]
     },
     "execution_count": 4,
     "metadata": {},
     "output_type": "execute_result"
    }
   ],
   "source": [
    "ks.get_option('compute.shortcut_limit')"
   ]
  },
  {
   "cell_type": "code",
   "execution_count": 5,
   "metadata": {},
   "outputs": [
    {
     "data": {
      "text/plain": [
       "1000000"
      ]
     },
     "execution_count": 5,
     "metadata": {},
     "output_type": "execute_result"
    }
   ],
   "source": [
    "ks.set_option('compute.shortcut_limit', 1000000)\n",
    "ks.get_option('compute.shortcut_limit')"
   ]
  },
  {
   "cell_type": "code",
   "execution_count": 6,
   "metadata": {},
   "outputs": [],
   "source": [
    "client = datastore.Client()"
   ]
  },
  {
   "cell_type": "markdown",
   "metadata": {},
   "source": [
    "## Edges Creation"
   ]
  },
  {
   "cell_type": "code",
   "execution_count": 7,
   "metadata": {},
   "outputs": [],
   "source": [
    "edges = pd.read_csv(\"/tmp/links.csv\")"
   ]
  },
  {
   "cell_type": "code",
   "execution_count": 8,
   "metadata": {},
   "outputs": [],
   "source": [
    "kdf_edges = ks.from_pandas(edges)\n"
   ]
  },
  {
   "cell_type": "code",
   "execution_count": 9,
   "metadata": {},
   "outputs": [
    {
     "data": {
      "text/html": [
       "<div>\n",
       "<style scoped>\n",
       "    .dataframe tbody tr th:only-of-type {\n",
       "        vertical-align: middle;\n",
       "    }\n",
       "\n",
       "    .dataframe tbody tr th {\n",
       "        vertical-align: top;\n",
       "    }\n",
       "\n",
       "    .dataframe thead th {\n",
       "        text-align: right;\n",
       "    }\n",
       "</style>\n",
       "<table border=\"1\" class=\"dataframe\">\n",
       "  <thead>\n",
       "    <tr style=\"text-align: right;\">\n",
       "      <th></th>\n",
       "      <th>sender</th>\n",
       "      <th>receiver</th>\n",
       "      <th>sender_cds_caut</th>\n",
       "      <th>receiver_cds_caut</th>\n",
       "      <th>sender_cds_csem</th>\n",
       "      <th>receiver_cds_csem</th>\n",
       "      <th>sender_csem_exit</th>\n",
       "      <th>receiver_csem_exit</th>\n",
       "      <th>first_datetime</th>\n",
       "      <th>last_datetime</th>\n",
       "      <th>count_of_sending</th>\n",
       "      <th>count_of_receiving</th>\n",
       "      <th>amount_of_sending</th>\n",
       "      <th>amount_of_receiving</th>\n",
       "    </tr>\n",
       "  </thead>\n",
       "  <tbody>\n",
       "    <tr>\n",
       "      <th>0</th>\n",
       "      <td>0x0000000048246c5f37df029bef0cefd9ee36f301</td>\n",
       "      <td>0xe87729bcf07cd2be7333a393b94c0959e30d9f96</td>\n",
       "      <td>0</td>\n",
       "      <td>0</td>\n",
       "      <td>0</td>\n",
       "      <td>1</td>\n",
       "      <td>NaN</td>\n",
       "      <td>NaN</td>\n",
       "      <td>5/15/2018 9:00</td>\n",
       "      <td>1/15/2019 9:00</td>\n",
       "      <td>7</td>\n",
       "      <td>0</td>\n",
       "      <td>0.100490</td>\n",
       "      <td>0.0</td>\n",
       "    </tr>\n",
       "    <tr>\n",
       "      <th>1</th>\n",
       "      <td>0x00004225550a3942d1877a3a43df923eb5279a5b</td>\n",
       "      <td>0xb3aaaae47070264f3595c5032ee94b620a583a39</td>\n",
       "      <td>0</td>\n",
       "      <td>0</td>\n",
       "      <td>1</td>\n",
       "      <td>0</td>\n",
       "      <td>NaN</td>\n",
       "      <td>NaN</td>\n",
       "      <td>5/15/2018 9:00</td>\n",
       "      <td>1/15/2019 9:00</td>\n",
       "      <td>7</td>\n",
       "      <td>0</td>\n",
       "      <td>0.347569</td>\n",
       "      <td>0.0</td>\n",
       "    </tr>\n",
       "    <tr>\n",
       "      <th>2</th>\n",
       "      <td>0x00008e23e286645c9c1e13ec3b02e18d0ddd1d7d</td>\n",
       "      <td>0xe1134bfd57131ce3ecfe69300b39728fd5c51573</td>\n",
       "      <td>0</td>\n",
       "      <td>0</td>\n",
       "      <td>0</td>\n",
       "      <td>0</td>\n",
       "      <td>NaN</td>\n",
       "      <td>NaN</td>\n",
       "      <td>5/15/2018 9:00</td>\n",
       "      <td>1/15/2019 9:00</td>\n",
       "      <td>7</td>\n",
       "      <td>0</td>\n",
       "      <td>2.297845</td>\n",
       "      <td>0.0</td>\n",
       "    </tr>\n",
       "    <tr>\n",
       "      <th>3</th>\n",
       "      <td>0x0001f2fe9bc9e12b975d575f67321121e2579b6d</td>\n",
       "      <td>Yobit</td>\n",
       "      <td>0</td>\n",
       "      <td>0</td>\n",
       "      <td>0</td>\n",
       "      <td>0</td>\n",
       "      <td>NaN</td>\n",
       "      <td>NaN</td>\n",
       "      <td>5/15/2018 9:00</td>\n",
       "      <td>1/15/2019 9:00</td>\n",
       "      <td>7</td>\n",
       "      <td>0</td>\n",
       "      <td>0.342718</td>\n",
       "      <td>0.0</td>\n",
       "    </tr>\n",
       "    <tr>\n",
       "      <th>4</th>\n",
       "      <td>0x00029638d51bd8ef7da7f43911aa9aaafe28dc7e</td>\n",
       "      <td>0xdc25e92d0f361f54052a1a4ad934b9184f13b255</td>\n",
       "      <td>0</td>\n",
       "      <td>0</td>\n",
       "      <td>1</td>\n",
       "      <td>0</td>\n",
       "      <td>NaN</td>\n",
       "      <td>NaN</td>\n",
       "      <td>5/15/2018 9:00</td>\n",
       "      <td>1/15/2019 9:00</td>\n",
       "      <td>7</td>\n",
       "      <td>0</td>\n",
       "      <td>0.106384</td>\n",
       "      <td>0.0</td>\n",
       "    </tr>\n",
       "  </tbody>\n",
       "</table>\n",
       "</div>"
      ],
      "text/plain": [
       "                                       sender                                    receiver  sender_cds_caut  receiver_cds_caut  sender_cds_csem  receiver_cds_csem  sender_csem_exit  receiver_csem_exit  first_datetime   last_datetime  count_of_sending  count_of_receiving  amount_of_sending  amount_of_receiving\n",
       "0  0x0000000048246c5f37df029bef0cefd9ee36f301  0xe87729bcf07cd2be7333a393b94c0959e30d9f96                0                  0                0                  1               NaN                 NaN  5/15/2018 9:00  1/15/2019 9:00                 7                   0           0.100490                  0.0\n",
       "1  0x00004225550a3942d1877a3a43df923eb5279a5b  0xb3aaaae47070264f3595c5032ee94b620a583a39                0                  0                1                  0               NaN                 NaN  5/15/2018 9:00  1/15/2019 9:00                 7                   0           0.347569                  0.0\n",
       "2  0x00008e23e286645c9c1e13ec3b02e18d0ddd1d7d  0xe1134bfd57131ce3ecfe69300b39728fd5c51573                0                  0                0                  0               NaN                 NaN  5/15/2018 9:00  1/15/2019 9:00                 7                   0           2.297845                  0.0\n",
       "3  0x0001f2fe9bc9e12b975d575f67321121e2579b6d                                       Yobit                0                  0                0                  0               NaN                 NaN  5/15/2018 9:00  1/15/2019 9:00                 7                   0           0.342718                  0.0\n",
       "4  0x00029638d51bd8ef7da7f43911aa9aaafe28dc7e  0xdc25e92d0f361f54052a1a4ad934b9184f13b255                0                  0                1                  0               NaN                 NaN  5/15/2018 9:00  1/15/2019 9:00                 7                   0           0.106384                  0.0"
      ]
     },
     "execution_count": 9,
     "metadata": {},
     "output_type": "execute_result"
    }
   ],
   "source": [
    "kdf_edges.head()"
   ]
  },
  {
   "cell_type": "code",
   "execution_count": 10,
   "metadata": {},
   "outputs": [
    {
     "name": "stdout",
     "output_type": "stream",
     "text": [
      "<class 'databricks.koalas.frame.DataFrame'>\n",
      "Index: 219806 entries, 54272 to 164863\n",
      "Data columns (total 14 columns):\n",
      " #   Column               Non-Null Count   Dtype  \n",
      "---  ------               --------------   -----  \n",
      " 0   sender               219806 non-null  object \n",
      " 1   receiver             219806 non-null  object \n",
      " 2   sender_cds_caut      219806 non-null  int64  \n",
      " 3   receiver_cds_caut    219806 non-null  int64  \n",
      " 4   sender_cds_csem      219806 non-null  int64  \n",
      " 5   receiver_cds_csem    219806 non-null  int64  \n",
      " 6   sender_csem_exit     0 non-null       float64\n",
      " 7   receiver_csem_exit   0 non-null       float64\n",
      " 8   first_datetime       219806 non-null  object \n",
      " 9   last_datetime        219806 non-null  object \n",
      " 10  count_of_sending     219806 non-null  int64  \n",
      " 11  count_of_receiving   219806 non-null  int64  \n",
      " 12  amount_of_sending    219806 non-null  float64\n",
      " 13  amount_of_receiving  219806 non-null  float64\n",
      "dtypes: float64(4), int64(6), object(4)"
     ]
    }
   ],
   "source": [
    "kdf_edges.info()"
   ]
  },
  {
   "cell_type": "code",
   "execution_count": 12,
   "metadata": {},
   "outputs": [
    {
     "data": {
      "text/plain": [
       "False"
      ]
     },
     "execution_count": 12,
     "metadata": {},
     "output_type": "execute_result"
    }
   ],
   "source": [
    "test = [\"test1\",\"test2\"]\n",
    "\"test1\" not in test"
   ]
  },
  {
   "cell_type": "code",
   "execution_count": 52,
   "metadata": {},
   "outputs": [],
   "source": [
    "def gnode_edge_update(sender, receiver):   \n",
    "#     print(\"calling it first\")\n",
    "\n",
    "#     client = datastore.Client()\n",
    "    key = client.key(\"node\",sender)\n",
    "    task = client.get(key)\n",
    "\n",
    "#     print(task)\n",
    "#     if \"edges\" in task:\n",
    "#         edges = task[\"edges\"]\n",
    "        \n",
    "#         if receiver not in edges:\n",
    "#             edges.append(receiver)\n",
    "            \n",
    "#         else:\n",
    "#             return True\n",
    "            \n",
    "#     else:\n",
    "#         edges = [receiver]\n",
    "\n",
    "#     task[\"edges\"] = edges\n",
    "\n",
    "#     client.put(task)\n",
    "\n",
    "\n",
    "\n",
    "    if receiver not in edges:\n",
    "        edges.append(receiver)\n",
    "        \n",
    "        task[\"edges\"] = edges\n",
    "\n",
    "        client.put(task)\n",
    "\n",
    "    "
   ]
  },
  {
   "cell_type": "code",
   "execution_count": 56,
   "metadata": {},
   "outputs": [],
   "source": [
    "def gedge_create(row):\n",
    "    \n",
    "#     client = datastore.Client()\n",
    "    gnode_edge_update(row[\"sender\"], row[\"receiver\"])\n",
    "    gnode_edge_update(row[\"receiver\"], row[\"sender\"])\n",
    "    \n",
    "#     key = client.key(\"edges\",\"{}-{}-{}\".format(row[\"sender\"],row[\"receiver\"],row[\"last_datetime\"]))\n",
    "#     task = datastore.Entity(key)\n",
    "#     task.update(\n",
    "#         {\n",
    "#             \"sender\":row[\"sender\"],\n",
    "#             \"receiver\":row[\"receiver\"],\n",
    "#             \"sender_cds_caut\":row[\"sender_cds_caut\"],\n",
    "#             \"receiver_cds_caut\":row[\"receiver_cds_caut\"],\n",
    "#             \"sender_cds_csem\":row[\"sender_cds_csem\"],\n",
    "#             \"receiver_cds_csem\":row[\"receiver_cds_csem\"],\n",
    "#             \"sender_csem_exit\":row[\"sender_csem_exit\"],\n",
    "#             \"receiver_csem_exit\":row[\"receiver_csem_exit\"],\n",
    "#             \"first_datetime\":row[\"first_datetime\"],\n",
    "#             \"last_datetime\":row[\"last_datetime\"],\n",
    "#             \"count_of_sending\":row[\"count_of_sending\"],\n",
    "#             \"count_of_receiving\":row[\"count_of_receiving\"],\n",
    "#             \"amount_of_sending\":row[\"amount_of_sending\"],\n",
    "#             \"amount_of_receiving\":row[\"amount_of_receiving\"]\n",
    "#         }\n",
    "#     )\n",
    "#     client.put(task)\n",
    "    \n",
    "    global counter \n",
    "    \n",
    "    counter += 1\n",
    "    \n",
    "    if counter % 1000 == 0 or counter == 26805 :\n",
    "        print(\"Progress @ {}% , {}\".format(round(counter/26805*100), counter))\n",
    "        "
   ]
  },
  {
   "cell_type": "code",
   "execution_count": null,
   "metadata": {},
   "outputs": [
    {
     "name": "stdout",
     "output_type": "stream",
     "text": [
      "Progress @ 4% , 1000\n",
      "Progress @ 7% , 2000\n",
      "Progress @ 11% , 3000\n",
      "Progress @ 15% , 4000\n",
      "Progress @ 19% , 5000\n",
      "Progress @ 22% , 6000\n",
      "Progress @ 26% , 7000\n",
      "Progress @ 30% , 8000\n",
      "Progress @ 34% , 9000\n",
      "Progress @ 37% , 10000\n",
      "Progress @ 41% , 11000\n",
      "Progress @ 45% , 12000\n",
      "Progress @ 48% , 13000\n",
      "Progress @ 52% , 14000\n",
      "Progress @ 56% , 15000\n",
      "Progress @ 60% , 16000\n",
      "Progress @ 63% , 17000\n",
      "Progress @ 67% , 18000\n",
      "Progress @ 71% , 19000\n",
      "Progress @ 75% , 20000\n",
      "Progress @ 78% , 21000\n",
      "Progress @ 82% , 22000\n",
      "Progress @ 86% , 23000\n",
      "Progress @ 90% , 24000\n",
      "Progress @ 93% , 25000\n",
      "Progress @ 97% , 26000\n",
      "Progress @ 100% , 26805\n",
      "Value error with counter @ 26805\n",
      "CPU times: user 1h 33min 26s, sys: 47 s, total: 1h 34min 13s\n",
      "Wall time: 3h 43min 19s\n"
     ]
    }
   ],
   "source": [
    "%%time\n",
    "counter = 0\n",
    "# with option_context('compute.max_rows', 10000000000): \n",
    "#     kdf_nodes.apply(gnode_create,axis='columns')\n",
    "try:\n",
    "    kdf_edges = ks.from_pandas(edges)\n",
    "    kdf_edges.apply(gedge_create,axis='columns')\n",
    "\n",
    "except ValueError:\n",
    "    print(\"Value error with counter @ {}\".format(counter))\n",
    "    "
   ]
  },
  {
   "cell_type": "code",
   "execution_count": 27,
   "metadata": {},
   "outputs": [
    {
     "name": "stdout",
     "output_type": "stream",
     "text": [
      "root\n",
      " |-- sender: string (nullable = true)\n",
      " |-- receiver: string (nullable = true)\n",
      " |-- sender_cds_caut: long (nullable = true)\n",
      " |-- receiver_cds_caut: long (nullable = true)\n",
      " |-- sender_cds_csem: long (nullable = true)\n",
      " |-- receiver_cds_csem: long (nullable = true)\n",
      " |-- sender_csem_exit: double (nullable = true)\n",
      " |-- receiver_csem_exit: double (nullable = true)\n",
      " |-- first_datetime: string (nullable = true)\n",
      " |-- last_datetime: string (nullable = true)\n",
      " |-- count_of_sending: long (nullable = true)\n",
      " |-- count_of_receiving: long (nullable = true)\n",
      " |-- amount_of_sending: double (nullable = true)\n",
      " |-- amount_of_receiving: double (nullable = true)\n",
      "\n"
     ]
    }
   ],
   "source": [
    "df_edges.printSchema()"
   ]
  },
  {
   "cell_type": "code",
   "execution_count": 35,
   "metadata": {},
   "outputs": [],
   "source": [
    "@pandas_udf(\"string\")\n",
    "def gedge_create2(sender: pd.Series, receiver: pd.Series) -> pd.Series:\n",
    "    \n",
    "    gnode_edge_update(sender, receiver)\n",
    "    gnode_edge_update(receiver, sender)\n",
    "    \n",
    "    \n",
    "    return sender"
   ]
  },
  {
   "cell_type": "code",
   "execution_count": null,
   "metadata": {},
   "outputs": [],
   "source": [
    "df_edges.select(gedge_create2(\"sender\",\"receiver\")).collect()"
   ]
  },
  {
   "cell_type": "code",
   "execution_count": null,
   "metadata": {},
   "outputs": [],
   "source": [
    "%%time\n",
    "counter = 0\n",
    "\n",
    "kdf_edges.apply(gedge_create,axis='columns')\n"
   ]
  },
  {
   "cell_type": "code",
   "execution_count": 22,
   "metadata": {},
   "outputs": [],
   "source": [
    "df_edges = spark.createDataFrame(edges[0:9999])"
   ]
  },
  {
   "cell_type": "code",
   "execution_count": 23,
   "metadata": {},
   "outputs": [
    {
     "name": "stdout",
     "output_type": "stream",
     "text": [
      "root\n",
      " |-- sender: string (nullable = true)\n",
      " |-- receiver: string (nullable = true)\n",
      " |-- sender_cds_caut: long (nullable = true)\n",
      " |-- receiver_cds_caut: long (nullable = true)\n",
      " |-- sender_cds_csem: long (nullable = true)\n",
      " |-- receiver_cds_csem: long (nullable = true)\n",
      " |-- sender_csem_exit: double (nullable = true)\n",
      " |-- receiver_csem_exit: double (nullable = true)\n",
      " |-- first_datetime: string (nullable = true)\n",
      " |-- last_datetime: string (nullable = true)\n",
      " |-- count_of_sending: long (nullable = true)\n",
      " |-- count_of_receiving: long (nullable = true)\n",
      " |-- amount_of_sending: double (nullable = true)\n",
      " |-- amount_of_receiving: double (nullable = true)\n",
      "\n"
     ]
    }
   ],
   "source": [
    "df_edges.printSchema()"
   ]
  },
  {
   "cell_type": "code",
   "execution_count": null,
   "metadata": {},
   "outputs": [],
   "source": [
    "%%time\n",
    "counter = 0\n",
    "df_edges.groupby(\"sender\").applyInPandas(gedge_create,schema=\"sender string,\\\n",
    "receiver string,\\\n",
    "sender_cds_caut long,\\\n",
    "receiver_cds_caut long,\\\n",
    "sender_cds_csem long,\\\n",
    "receiver_cds_csem long,\\\n",
    "sender_csem_exit double,\\\n",
    "receiver_csem_exit double,\\\n",
    "first_datetime string,\\\n",
    "last_datetime string,\\\n",
    "count_of_sending long,\\\n",
    "count_of_receiving long,\\\n",
    "amount_of_sending double,\\\n",
    "amount_of_receiving double, col1 string\").collect()"
   ]
  },
  {
   "cell_type": "markdown",
   "metadata": {},
   "source": [
    "## Nodes creation process"
   ]
  },
  {
   "cell_type": "code",
   "execution_count": 13,
   "metadata": {},
   "outputs": [],
   "source": [
    "nodes = pd.read_csv(\"/tmp/nodes.csv\")"
   ]
  },
  {
   "cell_type": "code",
   "execution_count": 14,
   "metadata": {},
   "outputs": [],
   "source": [
    "kdf_nodes = ks.from_pandas(nodes)"
   ]
  },
  {
   "cell_type": "code",
   "execution_count": 15,
   "metadata": {},
   "outputs": [
    {
     "data": {
      "text/html": [
       "<div>\n",
       "<style scoped>\n",
       "    .dataframe tbody tr th:only-of-type {\n",
       "        vertical-align: middle;\n",
       "    }\n",
       "\n",
       "    .dataframe tbody tr th {\n",
       "        vertical-align: top;\n",
       "    }\n",
       "\n",
       "    .dataframe thead th {\n",
       "        text-align: right;\n",
       "    }\n",
       "</style>\n",
       "<table border=\"1\" class=\"dataframe\">\n",
       "  <thead>\n",
       "    <tr style=\"text-align: right;\">\n",
       "      <th></th>\n",
       "      <th>cid</th>\n",
       "      <th>first_datetime</th>\n",
       "      <th>last_datetime</th>\n",
       "      <th>count_of_sending</th>\n",
       "      <th>amount_of_sending</th>\n",
       "      <th>count_of_receiving</th>\n",
       "      <th>amount_of_receiving</th>\n",
       "      <th>count_of_rbwm_csem_connections</th>\n",
       "      <th>count_of_non_rbwm_csem_connections</th>\n",
       "      <th>count_of_rbwm_caut_connections</th>\n",
       "      <th>count_of_non_rbwm_caut_connections</th>\n",
       "      <th>count_of_total_connections</th>\n",
       "      <th>join_date</th>\n",
       "      <th>ip_address_array</th>\n",
       "      <th>email</th>\n",
       "      <th>home_tel_number</th>\n",
       "      <th>mobile_pager_number</th>\n",
       "    </tr>\n",
       "  </thead>\n",
       "  <tbody>\n",
       "    <tr>\n",
       "      <th>0</th>\n",
       "      <td>0x0000000048246c5f37df029bef0cefd9ee36f301</td>\n",
       "      <td>1/15/2019 9:00</td>\n",
       "      <td>1/15/2019 9:00</td>\n",
       "      <td>7</td>\n",
       "      <td>0.100490</td>\n",
       "      <td>0</td>\n",
       "      <td>0.000000</td>\n",
       "      <td>1</td>\n",
       "      <td>0</td>\n",
       "      <td>0</td>\n",
       "      <td>0</td>\n",
       "      <td>1</td>\n",
       "      <td>3/27/2008 0:00</td>\n",
       "      <td>[\"241.92.245.185\",\"188.22.55.210\",\"58.215.140....</td>\n",
       "      <td>8526@gmail.com</td>\n",
       "      <td>2092</td>\n",
       "      <td>4882</td>\n",
       "    </tr>\n",
       "    <tr>\n",
       "      <th>1</th>\n",
       "      <td>0x000000988c55d7aab7ccfda5bb273b7294fcbac5</td>\n",
       "      <td>1/15/2019 9:00</td>\n",
       "      <td>1/15/2019 9:00</td>\n",
       "      <td>0</td>\n",
       "      <td>0.000000</td>\n",
       "      <td>7</td>\n",
       "      <td>0.011004</td>\n",
       "      <td>0</td>\n",
       "      <td>1</td>\n",
       "      <td>0</td>\n",
       "      <td>1</td>\n",
       "      <td>1</td>\n",
       "      <td>6/22/1995 0:00</td>\n",
       "      <td>[\"113.141.115.152\",\"120.228.13.147\",\"191.29.83...</td>\n",
       "      <td>8136@gmail.com</td>\n",
       "      <td>6033</td>\n",
       "      <td>5758</td>\n",
       "    </tr>\n",
       "    <tr>\n",
       "      <th>2</th>\n",
       "      <td>0x00004225550a3942d1877a3a43df923eb5279a5b</td>\n",
       "      <td>1/15/2019 9:00</td>\n",
       "      <td>1/15/2019 9:00</td>\n",
       "      <td>7</td>\n",
       "      <td>0.347569</td>\n",
       "      <td>7</td>\n",
       "      <td>0.350509</td>\n",
       "      <td>0</td>\n",
       "      <td>1</td>\n",
       "      <td>0</td>\n",
       "      <td>0</td>\n",
       "      <td>2</td>\n",
       "      <td>6/14/2015 0:00</td>\n",
       "      <td>[\"160.88.215.46\",\"187.240.128.176\",\"195.224.24...</td>\n",
       "      <td>691@gmail.com</td>\n",
       "      <td>6183</td>\n",
       "      <td>8840</td>\n",
       "    </tr>\n",
       "    <tr>\n",
       "      <th>3</th>\n",
       "      <td>0x00008e23e286645c9c1e13ec3b02e18d0ddd1d7d</td>\n",
       "      <td>1/15/2019 9:00</td>\n",
       "      <td>1/15/2019 9:00</td>\n",
       "      <td>7</td>\n",
       "      <td>2.297845</td>\n",
       "      <td>7</td>\n",
       "      <td>2.299315</td>\n",
       "      <td>0</td>\n",
       "      <td>1</td>\n",
       "      <td>0</td>\n",
       "      <td>0</td>\n",
       "      <td>2</td>\n",
       "      <td>9/30/2016 0:00</td>\n",
       "      <td>[\"230.0.74.119\",\"98.95.183.118\",\"242.171.131.1...</td>\n",
       "      <td>5654@gmail.com</td>\n",
       "      <td>1749</td>\n",
       "      <td>1785</td>\n",
       "    </tr>\n",
       "    <tr>\n",
       "      <th>4</th>\n",
       "      <td>0x000130c1447fe71a395b48952b545b1760f37f8e</td>\n",
       "      <td>1/15/2019 9:00</td>\n",
       "      <td>1/15/2019 9:00</td>\n",
       "      <td>0</td>\n",
       "      <td>0.000000</td>\n",
       "      <td>7</td>\n",
       "      <td>0.537672</td>\n",
       "      <td>0</td>\n",
       "      <td>0</td>\n",
       "      <td>0</td>\n",
       "      <td>0</td>\n",
       "      <td>1</td>\n",
       "      <td>1/21/2018 0:00</td>\n",
       "      <td>[\"115.221.252.86\",\"175.130.126.242\",\"45.126.23...</td>\n",
       "      <td>3679@gmail.com</td>\n",
       "      <td>3041</td>\n",
       "      <td>4167</td>\n",
       "    </tr>\n",
       "  </tbody>\n",
       "</table>\n",
       "</div>"
      ],
      "text/plain": [
       "                                          cid  first_datetime   last_datetime  count_of_sending  amount_of_sending  count_of_receiving  amount_of_receiving  count_of_rbwm_csem_connections  count_of_non_rbwm_csem_connections  count_of_rbwm_caut_connections  count_of_non_rbwm_caut_connections  count_of_total_connections       join_date                                                                       ip_address_array           email  home_tel_number  mobile_pager_number\n",
       "0  0x0000000048246c5f37df029bef0cefd9ee36f301  1/15/2019 9:00  1/15/2019 9:00                 7           0.100490                   0             0.000000                               1                                   0                               0                                   0                           1  3/27/2008 0:00   [\"241.92.245.185\",\"188.22.55.210\",\"58.215.140.56\",\"244.217.99.101\",\"39.207.152.141\"]  8526@gmail.com             2092                 4882\n",
       "1  0x000000988c55d7aab7ccfda5bb273b7294fcbac5  1/15/2019 9:00  1/15/2019 9:00                 0           0.000000                   7             0.011004                               0                                   1                               0                                   1                           1  6/22/1995 0:00   [\"113.141.115.152\",\"120.228.13.147\",\"191.29.83.74\",\"209.129.20.221\",\"250.62.69.159\"]  8136@gmail.com             6033                 5758\n",
       "2  0x00004225550a3942d1877a3a43df923eb5279a5b  1/15/2019 9:00  1/15/2019 9:00                 7           0.347569                   7             0.350509                               0                                   1                               0                                   0                           2  6/14/2015 0:00  [\"160.88.215.46\",\"187.240.128.176\",\"195.224.24.213\",\"236.193.0.188\",\"81.181.155.231\"]   691@gmail.com             6183                 8840\n",
       "3  0x00008e23e286645c9c1e13ec3b02e18d0ddd1d7d  1/15/2019 9:00  1/15/2019 9:00                 7           2.297845                   7             2.299315                               0                                   1                               0                                   0                           2  9/30/2016 0:00    [\"230.0.74.119\",\"98.95.183.118\",\"242.171.131.140\",\"180.207.242.78\",\"174.51.247.59\"]  5654@gmail.com             1749                 1785\n",
       "4  0x000130c1447fe71a395b48952b545b1760f37f8e  1/15/2019 9:00  1/15/2019 9:00                 0           0.000000                   7             0.537672                               0                                   0                               0                                   0                           1  1/21/2018 0:00   [\"115.221.252.86\",\"175.130.126.242\",\"45.126.238.49\",\"55.109.128.57\",\"67.157.76.164\"]  3679@gmail.com             3041                 4167"
      ]
     },
     "execution_count": 15,
     "metadata": {},
     "output_type": "execute_result"
    }
   ],
   "source": [
    "kdf_nodes.head()"
   ]
  },
  {
   "cell_type": "code",
   "execution_count": 16,
   "metadata": {},
   "outputs": [
    {
     "name": "stdout",
     "output_type": "stream",
     "text": [
      "<class 'databricks.koalas.frame.DataFrame'>\n",
      "Index: 194217 entries, 0 to 194216\n",
      "Data columns (total 17 columns):\n",
      " #   Column                              Non-Null Count   Dtype  \n",
      "---  ------                              --------------   -----  \n",
      " 0   cid                                 194217 non-null  object \n",
      " 1   first_datetime                      194217 non-null  object \n",
      " 2   last_datetime                       194217 non-null  object \n",
      " 3   count_of_sending                    194217 non-null  int64  \n",
      " 4   amount_of_sending                   194217 non-null  float64\n",
      " 5   count_of_receiving                  194217 non-null  int64  \n",
      " 6   amount_of_receiving                 194217 non-null  float64\n",
      " 7   count_of_rbwm_csem_connections      194217 non-null  int64  \n",
      " 8   count_of_non_rbwm_csem_connections  194217 non-null  int64  \n",
      " 9   count_of_rbwm_caut_connections      194217 non-null  int64  \n",
      " 10  count_of_non_rbwm_caut_connections  194217 non-null  int64  \n",
      " 11  count_of_total_connections          194217 non-null  int64  \n",
      " 12  join_date                           194217 non-null  object \n",
      " 13  ip_address_array                    194217 non-null  object \n",
      " 14  email                               194217 non-null  object \n",
      " 15  home_tel_number                     194217 non-null  int64  \n",
      " 16  mobile_pager_number                 194217 non-null  int64  \n",
      "dtypes: float64(2), int64(9), object(6)"
     ]
    }
   ],
   "source": [
    "kdf_nodes.info()"
   ]
  },
  {
   "cell_type": "code",
   "execution_count": 17,
   "metadata": {},
   "outputs": [],
   "source": [
    "def gnode_create(row):\n",
    "    key = client.key(\"node\",row[\"cid\"])\n",
    "    task = datastore.Entity(key)\n",
    "    task.update(\n",
    "        {\n",
    "           \"first_datetime\":row[\"first_datetime\"],\n",
    "            \"last_datetime\":row[\"last_datetime\"],\n",
    "            \"count_of_sending\":row[\"count_of_sending\"],\n",
    "            \"amount_of_sending\":row[\"amount_of_sending\"],\n",
    "            \"count_of_receiving\":row[\"count_of_receiving\"],\n",
    "            \"amount_of_receiving\":row[\"amount_of_receiving\"],\n",
    "            \"count_of_rbwm_csem_connections\":row[\"count_of_rbwm_csem_connections\"],\n",
    "            \"count_of_non_rbwm_csem_connections\":row[\"count_of_non_rbwm_csem_connections\"],\n",
    "            \"count_of_rbwm_caut_connections\":row[\"count_of_rbwm_caut_connections\"],\n",
    "            \"count_of_non_rbwm_caut_connections\":row[\"count_of_non_rbwm_caut_connections\"],\n",
    "            \"count_of_total_connections\":row[\"count_of_total_connections\"],\n",
    "            \"join_date\":row[\"join_date\"],\n",
    "            \"ip_address_array\":row[\"ip_address_array\"],\n",
    "            \"email\":row[\"email\"],\n",
    "            \"home_tel_number\":row[\"home_tel_number\"],\n",
    "            \"mobile_pager_number\":row[\"mobile_pager_number\"],\n",
    "            \"edges\":[]\n",
    "        }\n",
    "    )\n",
    "    client.put(task)\n",
    "    \n",
    "    global counter \n",
    "    \n",
    "    counter += 1\n",
    "    \n",
    "    if counter % 10000 == 0 or counter == 194217:\n",
    "        print(\"Progress @ {}% , {}\".format(round(counter/194217*100), counter))"
   ]
  },
  {
   "cell_type": "code",
   "execution_count": null,
   "metadata": {},
   "outputs": [
    {
     "ename": "KeyboardInterrupt",
     "evalue": "",
     "output_type": "error",
     "traceback": [
      "\u001b[0;31m---------------------------------------------------------------------------\u001b[0m",
      "\u001b[0;31mKeyboardInterrupt\u001b[0m                         Traceback (most recent call last)",
      "\u001b[0;32m<timed exec>\u001b[0m in \u001b[0;36m<module>\u001b[0;34m\u001b[0m\n",
      "\u001b[0;32m/opt/conda/miniconda3/lib/python3.8/site-packages/databricks/koalas/frame.py\u001b[0m in \u001b[0;36mapply\u001b[0;34m(self, func, axis, args, **kwds)\u001b[0m\n\u001b[1;32m   2399\u001b[0m             \u001b[0mlimit\u001b[0m \u001b[0;34m=\u001b[0m \u001b[0mget_option\u001b[0m\u001b[0;34m(\u001b[0m\u001b[0;34m\"compute.shortcut_limit\"\u001b[0m\u001b[0;34m)\u001b[0m\u001b[0;34m\u001b[0m\u001b[0;34m\u001b[0m\u001b[0m\n\u001b[1;32m   2400\u001b[0m             \u001b[0mpdf\u001b[0m \u001b[0;34m=\u001b[0m \u001b[0mself_applied\u001b[0m\u001b[0;34m.\u001b[0m\u001b[0mhead\u001b[0m\u001b[0;34m(\u001b[0m\u001b[0mlimit\u001b[0m \u001b[0;34m+\u001b[0m \u001b[0;36m1\u001b[0m\u001b[0;34m)\u001b[0m\u001b[0;34m.\u001b[0m\u001b[0m_to_internal_pandas\u001b[0m\u001b[0;34m(\u001b[0m\u001b[0;34m)\u001b[0m\u001b[0;34m\u001b[0m\u001b[0;34m\u001b[0m\u001b[0m\n\u001b[0;32m-> 2401\u001b[0;31m             \u001b[0mapplied\u001b[0m \u001b[0;34m=\u001b[0m \u001b[0mpdf\u001b[0m\u001b[0;34m.\u001b[0m\u001b[0mapply\u001b[0m\u001b[0;34m(\u001b[0m\u001b[0mfunc\u001b[0m\u001b[0;34m,\u001b[0m \u001b[0maxis\u001b[0m\u001b[0;34m=\u001b[0m\u001b[0maxis\u001b[0m\u001b[0;34m,\u001b[0m \u001b[0margs\u001b[0m\u001b[0;34m=\u001b[0m\u001b[0margs\u001b[0m\u001b[0;34m,\u001b[0m \u001b[0;34m**\u001b[0m\u001b[0mkwds\u001b[0m\u001b[0;34m)\u001b[0m\u001b[0;34m\u001b[0m\u001b[0;34m\u001b[0m\u001b[0m\n\u001b[0m\u001b[1;32m   2402\u001b[0m             \u001b[0mkser_or_kdf\u001b[0m \u001b[0;34m=\u001b[0m \u001b[0mks\u001b[0m\u001b[0;34m.\u001b[0m\u001b[0mfrom_pandas\u001b[0m\u001b[0;34m(\u001b[0m\u001b[0mapplied\u001b[0m\u001b[0;34m)\u001b[0m\u001b[0;34m\u001b[0m\u001b[0;34m\u001b[0m\u001b[0m\n\u001b[1;32m   2403\u001b[0m             \u001b[0;32mif\u001b[0m \u001b[0mlen\u001b[0m\u001b[0;34m(\u001b[0m\u001b[0mpdf\u001b[0m\u001b[0;34m)\u001b[0m \u001b[0;34m<=\u001b[0m \u001b[0mlimit\u001b[0m\u001b[0;34m:\u001b[0m\u001b[0;34m\u001b[0m\u001b[0;34m\u001b[0m\u001b[0m\n",
      "\u001b[0;32m/opt/conda/miniconda3/lib/python3.8/site-packages/pandas/core/frame.py\u001b[0m in \u001b[0;36mapply\u001b[0;34m(self, func, axis, raw, result_type, args, **kwds)\u001b[0m\n\u001b[1;32m   7763\u001b[0m             \u001b[0mkwds\u001b[0m\u001b[0;34m=\u001b[0m\u001b[0mkwds\u001b[0m\u001b[0;34m,\u001b[0m\u001b[0;34m\u001b[0m\u001b[0;34m\u001b[0m\u001b[0m\n\u001b[1;32m   7764\u001b[0m         )\n\u001b[0;32m-> 7765\u001b[0;31m         \u001b[0;32mreturn\u001b[0m \u001b[0mop\u001b[0m\u001b[0;34m.\u001b[0m\u001b[0mget_result\u001b[0m\u001b[0;34m(\u001b[0m\u001b[0;34m)\u001b[0m\u001b[0;34m\u001b[0m\u001b[0;34m\u001b[0m\u001b[0m\n\u001b[0m\u001b[1;32m   7766\u001b[0m \u001b[0;34m\u001b[0m\u001b[0m\n\u001b[1;32m   7767\u001b[0m     \u001b[0;32mdef\u001b[0m \u001b[0mapplymap\u001b[0m\u001b[0;34m(\u001b[0m\u001b[0mself\u001b[0m\u001b[0;34m,\u001b[0m \u001b[0mfunc\u001b[0m\u001b[0;34m,\u001b[0m \u001b[0mna_action\u001b[0m\u001b[0;34m:\u001b[0m \u001b[0mOptional\u001b[0m\u001b[0;34m[\u001b[0m\u001b[0mstr\u001b[0m\u001b[0;34m]\u001b[0m \u001b[0;34m=\u001b[0m \u001b[0;32mNone\u001b[0m\u001b[0;34m)\u001b[0m \u001b[0;34m->\u001b[0m \u001b[0mDataFrame\u001b[0m\u001b[0;34m:\u001b[0m\u001b[0;34m\u001b[0m\u001b[0;34m\u001b[0m\u001b[0m\n",
      "\u001b[0;32m/opt/conda/miniconda3/lib/python3.8/site-packages/pandas/core/apply.py\u001b[0m in \u001b[0;36mget_result\u001b[0;34m(self)\u001b[0m\n\u001b[1;32m    183\u001b[0m             \u001b[0;32mreturn\u001b[0m \u001b[0mself\u001b[0m\u001b[0;34m.\u001b[0m\u001b[0mapply_raw\u001b[0m\u001b[0;34m(\u001b[0m\u001b[0;34m)\u001b[0m\u001b[0;34m\u001b[0m\u001b[0;34m\u001b[0m\u001b[0m\n\u001b[1;32m    184\u001b[0m \u001b[0;34m\u001b[0m\u001b[0m\n\u001b[0;32m--> 185\u001b[0;31m         \u001b[0;32mreturn\u001b[0m \u001b[0mself\u001b[0m\u001b[0;34m.\u001b[0m\u001b[0mapply_standard\u001b[0m\u001b[0;34m(\u001b[0m\u001b[0;34m)\u001b[0m\u001b[0;34m\u001b[0m\u001b[0;34m\u001b[0m\u001b[0m\n\u001b[0m\u001b[1;32m    186\u001b[0m \u001b[0;34m\u001b[0m\u001b[0m\n\u001b[1;32m    187\u001b[0m     \u001b[0;32mdef\u001b[0m \u001b[0mapply_empty_result\u001b[0m\u001b[0;34m(\u001b[0m\u001b[0mself\u001b[0m\u001b[0;34m)\u001b[0m\u001b[0;34m:\u001b[0m\u001b[0;34m\u001b[0m\u001b[0;34m\u001b[0m\u001b[0m\n",
      "\u001b[0;32m/opt/conda/miniconda3/lib/python3.8/site-packages/pandas/core/apply.py\u001b[0m in \u001b[0;36mapply_standard\u001b[0;34m(self)\u001b[0m\n\u001b[1;32m    274\u001b[0m \u001b[0;34m\u001b[0m\u001b[0m\n\u001b[1;32m    275\u001b[0m     \u001b[0;32mdef\u001b[0m \u001b[0mapply_standard\u001b[0m\u001b[0;34m(\u001b[0m\u001b[0mself\u001b[0m\u001b[0;34m)\u001b[0m\u001b[0;34m:\u001b[0m\u001b[0;34m\u001b[0m\u001b[0;34m\u001b[0m\u001b[0m\n\u001b[0;32m--> 276\u001b[0;31m         \u001b[0mresults\u001b[0m\u001b[0;34m,\u001b[0m \u001b[0mres_index\u001b[0m \u001b[0;34m=\u001b[0m \u001b[0mself\u001b[0m\u001b[0;34m.\u001b[0m\u001b[0mapply_series_generator\u001b[0m\u001b[0;34m(\u001b[0m\u001b[0;34m)\u001b[0m\u001b[0;34m\u001b[0m\u001b[0;34m\u001b[0m\u001b[0m\n\u001b[0m\u001b[1;32m    277\u001b[0m \u001b[0;34m\u001b[0m\u001b[0m\n\u001b[1;32m    278\u001b[0m         \u001b[0;31m# wrap results\u001b[0m\u001b[0;34m\u001b[0m\u001b[0;34m\u001b[0m\u001b[0;34m\u001b[0m\u001b[0m\n",
      "\u001b[0;32m/opt/conda/miniconda3/lib/python3.8/site-packages/pandas/core/apply.py\u001b[0m in \u001b[0;36mapply_series_generator\u001b[0;34m(self)\u001b[0m\n\u001b[1;32m    288\u001b[0m             \u001b[0;32mfor\u001b[0m \u001b[0mi\u001b[0m\u001b[0;34m,\u001b[0m \u001b[0mv\u001b[0m \u001b[0;32min\u001b[0m \u001b[0menumerate\u001b[0m\u001b[0;34m(\u001b[0m\u001b[0mseries_gen\u001b[0m\u001b[0;34m)\u001b[0m\u001b[0;34m:\u001b[0m\u001b[0;34m\u001b[0m\u001b[0;34m\u001b[0m\u001b[0m\n\u001b[1;32m    289\u001b[0m                 \u001b[0;31m# ignore SettingWithCopy here in case the user mutates\u001b[0m\u001b[0;34m\u001b[0m\u001b[0;34m\u001b[0m\u001b[0;34m\u001b[0m\u001b[0m\n\u001b[0;32m--> 290\u001b[0;31m                 \u001b[0mresults\u001b[0m\u001b[0;34m[\u001b[0m\u001b[0mi\u001b[0m\u001b[0;34m]\u001b[0m \u001b[0;34m=\u001b[0m \u001b[0mself\u001b[0m\u001b[0;34m.\u001b[0m\u001b[0mf\u001b[0m\u001b[0;34m(\u001b[0m\u001b[0mv\u001b[0m\u001b[0;34m)\u001b[0m\u001b[0;34m\u001b[0m\u001b[0;34m\u001b[0m\u001b[0m\n\u001b[0m\u001b[1;32m    291\u001b[0m                 \u001b[0;32mif\u001b[0m \u001b[0misinstance\u001b[0m\u001b[0;34m(\u001b[0m\u001b[0mresults\u001b[0m\u001b[0;34m[\u001b[0m\u001b[0mi\u001b[0m\u001b[0;34m]\u001b[0m\u001b[0;34m,\u001b[0m \u001b[0mABCSeries\u001b[0m\u001b[0;34m)\u001b[0m\u001b[0;34m:\u001b[0m\u001b[0;34m\u001b[0m\u001b[0;34m\u001b[0m\u001b[0m\n\u001b[1;32m    292\u001b[0m                     \u001b[0;31m# If we have a view on v, we need to make a copy because\u001b[0m\u001b[0;34m\u001b[0m\u001b[0;34m\u001b[0m\u001b[0;34m\u001b[0m\u001b[0m\n",
      "\u001b[0;32m<ipython-input-17-d24c1a8b5dc2>\u001b[0m in \u001b[0;36mgnode_create\u001b[0;34m(row)\u001b[0m\n\u001b[1;32m     23\u001b[0m         }\n\u001b[1;32m     24\u001b[0m     )\n\u001b[0;32m---> 25\u001b[0;31m     \u001b[0mclient\u001b[0m\u001b[0;34m.\u001b[0m\u001b[0mput\u001b[0m\u001b[0;34m(\u001b[0m\u001b[0mtask\u001b[0m\u001b[0;34m)\u001b[0m\u001b[0;34m\u001b[0m\u001b[0;34m\u001b[0m\u001b[0m\n\u001b[0m\u001b[1;32m     26\u001b[0m \u001b[0;34m\u001b[0m\u001b[0m\n\u001b[1;32m     27\u001b[0m     \u001b[0;32mglobal\u001b[0m \u001b[0mcounter\u001b[0m\u001b[0;34m\u001b[0m\u001b[0;34m\u001b[0m\u001b[0m\n",
      "\u001b[0;32m/opt/conda/miniconda3/lib/python3.8/site-packages/google/cloud/datastore/client.py\u001b[0m in \u001b[0;36mput\u001b[0;34m(self, entity, retry, timeout)\u001b[0m\n\u001b[1;32m    572\u001b[0m             \u001b[0mbatch\u001b[0m \u001b[0;34m/\u001b[0m \u001b[0mtransaction\u001b[0m\u001b[0;34m.\u001b[0m\u001b[0;34m\u001b[0m\u001b[0;34m\u001b[0m\u001b[0m\n\u001b[1;32m    573\u001b[0m         \"\"\"\n\u001b[0;32m--> 574\u001b[0;31m         \u001b[0mself\u001b[0m\u001b[0;34m.\u001b[0m\u001b[0mput_multi\u001b[0m\u001b[0;34m(\u001b[0m\u001b[0mentities\u001b[0m\u001b[0;34m=\u001b[0m\u001b[0;34m[\u001b[0m\u001b[0mentity\u001b[0m\u001b[0;34m]\u001b[0m\u001b[0;34m,\u001b[0m \u001b[0mretry\u001b[0m\u001b[0;34m=\u001b[0m\u001b[0mretry\u001b[0m\u001b[0;34m,\u001b[0m \u001b[0mtimeout\u001b[0m\u001b[0;34m=\u001b[0m\u001b[0mtimeout\u001b[0m\u001b[0;34m)\u001b[0m\u001b[0;34m\u001b[0m\u001b[0;34m\u001b[0m\u001b[0m\n\u001b[0m\u001b[1;32m    575\u001b[0m \u001b[0;34m\u001b[0m\u001b[0m\n\u001b[1;32m    576\u001b[0m     \u001b[0;32mdef\u001b[0m \u001b[0mput_multi\u001b[0m\u001b[0;34m(\u001b[0m\u001b[0mself\u001b[0m\u001b[0;34m,\u001b[0m \u001b[0mentities\u001b[0m\u001b[0;34m,\u001b[0m \u001b[0mretry\u001b[0m\u001b[0;34m=\u001b[0m\u001b[0;32mNone\u001b[0m\u001b[0;34m,\u001b[0m \u001b[0mtimeout\u001b[0m\u001b[0;34m=\u001b[0m\u001b[0;32mNone\u001b[0m\u001b[0;34m)\u001b[0m\u001b[0;34m:\u001b[0m\u001b[0;34m\u001b[0m\u001b[0;34m\u001b[0m\u001b[0m\n",
      "\u001b[0;32m/opt/conda/miniconda3/lib/python3.8/site-packages/google/cloud/datastore/client.py\u001b[0m in \u001b[0;36mput_multi\u001b[0;34m(self, entities, retry, timeout)\u001b[0m\n\u001b[1;32m    612\u001b[0m \u001b[0;34m\u001b[0m\u001b[0m\n\u001b[1;32m    613\u001b[0m         \u001b[0;32mif\u001b[0m \u001b[0;32mnot\u001b[0m \u001b[0min_batch\u001b[0m\u001b[0;34m:\u001b[0m\u001b[0;34m\u001b[0m\u001b[0;34m\u001b[0m\u001b[0m\n\u001b[0;32m--> 614\u001b[0;31m             \u001b[0mcurrent\u001b[0m\u001b[0;34m.\u001b[0m\u001b[0mcommit\u001b[0m\u001b[0;34m(\u001b[0m\u001b[0mretry\u001b[0m\u001b[0;34m=\u001b[0m\u001b[0mretry\u001b[0m\u001b[0;34m,\u001b[0m \u001b[0mtimeout\u001b[0m\u001b[0;34m=\u001b[0m\u001b[0mtimeout\u001b[0m\u001b[0;34m)\u001b[0m\u001b[0;34m\u001b[0m\u001b[0;34m\u001b[0m\u001b[0m\n\u001b[0m\u001b[1;32m    615\u001b[0m \u001b[0;34m\u001b[0m\u001b[0m\n\u001b[1;32m    616\u001b[0m     \u001b[0;32mdef\u001b[0m \u001b[0mdelete\u001b[0m\u001b[0;34m(\u001b[0m\u001b[0mself\u001b[0m\u001b[0;34m,\u001b[0m \u001b[0mkey\u001b[0m\u001b[0;34m,\u001b[0m \u001b[0mretry\u001b[0m\u001b[0;34m=\u001b[0m\u001b[0;32mNone\u001b[0m\u001b[0;34m,\u001b[0m \u001b[0mtimeout\u001b[0m\u001b[0;34m=\u001b[0m\u001b[0;32mNone\u001b[0m\u001b[0;34m)\u001b[0m\u001b[0;34m:\u001b[0m\u001b[0;34m\u001b[0m\u001b[0;34m\u001b[0m\u001b[0m\n",
      "\u001b[0;32m/opt/conda/miniconda3/lib/python3.8/site-packages/google/cloud/datastore/batch.py\u001b[0m in \u001b[0;36mcommit\u001b[0;34m(self, retry, timeout)\u001b[0m\n\u001b[1;32m    298\u001b[0m \u001b[0;34m\u001b[0m\u001b[0m\n\u001b[1;32m    299\u001b[0m         \u001b[0;32mtry\u001b[0m\u001b[0;34m:\u001b[0m\u001b[0;34m\u001b[0m\u001b[0;34m\u001b[0m\u001b[0m\n\u001b[0;32m--> 300\u001b[0;31m             \u001b[0mself\u001b[0m\u001b[0;34m.\u001b[0m\u001b[0m_commit\u001b[0m\u001b[0;34m(\u001b[0m\u001b[0mretry\u001b[0m\u001b[0;34m=\u001b[0m\u001b[0mretry\u001b[0m\u001b[0;34m,\u001b[0m \u001b[0mtimeout\u001b[0m\u001b[0;34m=\u001b[0m\u001b[0mtimeout\u001b[0m\u001b[0;34m)\u001b[0m\u001b[0;34m\u001b[0m\u001b[0;34m\u001b[0m\u001b[0m\n\u001b[0m\u001b[1;32m    301\u001b[0m         \u001b[0;32mfinally\u001b[0m\u001b[0;34m:\u001b[0m\u001b[0;34m\u001b[0m\u001b[0;34m\u001b[0m\u001b[0m\n\u001b[1;32m    302\u001b[0m             \u001b[0mself\u001b[0m\u001b[0;34m.\u001b[0m\u001b[0m_status\u001b[0m \u001b[0;34m=\u001b[0m \u001b[0mself\u001b[0m\u001b[0;34m.\u001b[0m\u001b[0m_FINISHED\u001b[0m\u001b[0;34m\u001b[0m\u001b[0;34m\u001b[0m\u001b[0m\n",
      "\u001b[0;32m/opt/conda/miniconda3/lib/python3.8/site-packages/google/cloud/datastore/batch.py\u001b[0m in \u001b[0;36m_commit\u001b[0;34m(self, retry, timeout)\u001b[0m\n\u001b[1;32m    255\u001b[0m             \u001b[0mkwargs\u001b[0m\u001b[0;34m[\u001b[0m\u001b[0;34m\"timeout\"\u001b[0m\u001b[0;34m]\u001b[0m \u001b[0;34m=\u001b[0m \u001b[0mtimeout\u001b[0m\u001b[0;34m\u001b[0m\u001b[0;34m\u001b[0m\u001b[0m\n\u001b[1;32m    256\u001b[0m \u001b[0;34m\u001b[0m\u001b[0m\n\u001b[0;32m--> 257\u001b[0;31m         commit_response_pb = self._client._datastore_api.commit(\n\u001b[0m\u001b[1;32m    258\u001b[0m             request={\n\u001b[1;32m    259\u001b[0m                 \u001b[0;34m\"project_id\"\u001b[0m\u001b[0;34m:\u001b[0m \u001b[0mself\u001b[0m\u001b[0;34m.\u001b[0m\u001b[0mproject\u001b[0m\u001b[0;34m,\u001b[0m\u001b[0;34m\u001b[0m\u001b[0;34m\u001b[0m\u001b[0m\n",
      "\u001b[0;32m/opt/conda/miniconda3/lib/python3.8/site-packages/google/cloud/datastore_v1/services/datastore/client.py\u001b[0m in \u001b[0;36mcommit\u001b[0;34m(self, request, project_id, mode, transaction, mutations, retry, timeout, metadata)\u001b[0m\n\u001b[1;32m    625\u001b[0m \u001b[0;34m\u001b[0m\u001b[0m\n\u001b[1;32m    626\u001b[0m         \u001b[0;31m# Send the request.\u001b[0m\u001b[0;34m\u001b[0m\u001b[0;34m\u001b[0m\u001b[0;34m\u001b[0m\u001b[0m\n\u001b[0;32m--> 627\u001b[0;31m         \u001b[0mresponse\u001b[0m \u001b[0;34m=\u001b[0m \u001b[0mrpc\u001b[0m\u001b[0;34m(\u001b[0m\u001b[0mrequest\u001b[0m\u001b[0;34m,\u001b[0m \u001b[0mretry\u001b[0m\u001b[0;34m=\u001b[0m\u001b[0mretry\u001b[0m\u001b[0;34m,\u001b[0m \u001b[0mtimeout\u001b[0m\u001b[0;34m=\u001b[0m\u001b[0mtimeout\u001b[0m\u001b[0;34m,\u001b[0m \u001b[0mmetadata\u001b[0m\u001b[0;34m=\u001b[0m\u001b[0mmetadata\u001b[0m\u001b[0;34m,\u001b[0m\u001b[0;34m)\u001b[0m\u001b[0;34m\u001b[0m\u001b[0;34m\u001b[0m\u001b[0m\n\u001b[0m\u001b[1;32m    628\u001b[0m \u001b[0;34m\u001b[0m\u001b[0m\n\u001b[1;32m    629\u001b[0m         \u001b[0;31m# Done; return the response.\u001b[0m\u001b[0;34m\u001b[0m\u001b[0;34m\u001b[0m\u001b[0;34m\u001b[0m\u001b[0m\n",
      "\u001b[0;32m/opt/conda/miniconda3/lib/python3.8/site-packages/google/api_core/gapic_v1/method.py\u001b[0m in \u001b[0;36m__call__\u001b[0;34m(self, *args, **kwargs)\u001b[0m\n\u001b[1;32m    143\u001b[0m             \u001b[0mkwargs\u001b[0m\u001b[0;34m[\u001b[0m\u001b[0;34m\"metadata\"\u001b[0m\u001b[0;34m]\u001b[0m \u001b[0;34m=\u001b[0m \u001b[0mmetadata\u001b[0m\u001b[0;34m\u001b[0m\u001b[0;34m\u001b[0m\u001b[0m\n\u001b[1;32m    144\u001b[0m \u001b[0;34m\u001b[0m\u001b[0m\n\u001b[0;32m--> 145\u001b[0;31m         \u001b[0;32mreturn\u001b[0m \u001b[0mwrapped_func\u001b[0m\u001b[0;34m(\u001b[0m\u001b[0;34m*\u001b[0m\u001b[0margs\u001b[0m\u001b[0;34m,\u001b[0m \u001b[0;34m**\u001b[0m\u001b[0mkwargs\u001b[0m\u001b[0;34m)\u001b[0m\u001b[0;34m\u001b[0m\u001b[0;34m\u001b[0m\u001b[0m\n\u001b[0m\u001b[1;32m    146\u001b[0m \u001b[0;34m\u001b[0m\u001b[0m\n\u001b[1;32m    147\u001b[0m \u001b[0;34m\u001b[0m\u001b[0m\n",
      "\u001b[0;32m/opt/conda/miniconda3/lib/python3.8/site-packages/google/api_core/grpc_helpers.py\u001b[0m in \u001b[0;36merror_remapped_callable\u001b[0;34m(*args, **kwargs)\u001b[0m\n\u001b[1;32m     71\u001b[0m     \u001b[0;32mdef\u001b[0m \u001b[0merror_remapped_callable\u001b[0m\u001b[0;34m(\u001b[0m\u001b[0;34m*\u001b[0m\u001b[0margs\u001b[0m\u001b[0;34m,\u001b[0m \u001b[0;34m**\u001b[0m\u001b[0mkwargs\u001b[0m\u001b[0;34m)\u001b[0m\u001b[0;34m:\u001b[0m\u001b[0;34m\u001b[0m\u001b[0;34m\u001b[0m\u001b[0m\n\u001b[1;32m     72\u001b[0m         \u001b[0;32mtry\u001b[0m\u001b[0;34m:\u001b[0m\u001b[0;34m\u001b[0m\u001b[0;34m\u001b[0m\u001b[0m\n\u001b[0;32m---> 73\u001b[0;31m             \u001b[0;32mreturn\u001b[0m \u001b[0mcallable_\u001b[0m\u001b[0;34m(\u001b[0m\u001b[0;34m*\u001b[0m\u001b[0margs\u001b[0m\u001b[0;34m,\u001b[0m \u001b[0;34m**\u001b[0m\u001b[0mkwargs\u001b[0m\u001b[0;34m)\u001b[0m\u001b[0;34m\u001b[0m\u001b[0;34m\u001b[0m\u001b[0m\n\u001b[0m\u001b[1;32m     74\u001b[0m         \u001b[0;32mexcept\u001b[0m \u001b[0mgrpc\u001b[0m\u001b[0;34m.\u001b[0m\u001b[0mRpcError\u001b[0m \u001b[0;32mas\u001b[0m \u001b[0mexc\u001b[0m\u001b[0;34m:\u001b[0m\u001b[0;34m\u001b[0m\u001b[0;34m\u001b[0m\u001b[0m\n\u001b[1;32m     75\u001b[0m             \u001b[0msix\u001b[0m\u001b[0;34m.\u001b[0m\u001b[0mraise_from\u001b[0m\u001b[0;34m(\u001b[0m\u001b[0mexceptions\u001b[0m\u001b[0;34m.\u001b[0m\u001b[0mfrom_grpc_error\u001b[0m\u001b[0;34m(\u001b[0m\u001b[0mexc\u001b[0m\u001b[0;34m)\u001b[0m\u001b[0;34m,\u001b[0m \u001b[0mexc\u001b[0m\u001b[0;34m)\u001b[0m\u001b[0;34m\u001b[0m\u001b[0;34m\u001b[0m\u001b[0m\n",
      "\u001b[0;32m/opt/conda/miniconda3/lib/python3.8/site-packages/grpc/_channel.py\u001b[0m in \u001b[0;36m__call__\u001b[0;34m(self, request, timeout, metadata, credentials, wait_for_ready, compression)\u001b[0m\n\u001b[1;32m    919\u001b[0m                  \u001b[0mwait_for_ready\u001b[0m\u001b[0;34m=\u001b[0m\u001b[0;32mNone\u001b[0m\u001b[0;34m,\u001b[0m\u001b[0;34m\u001b[0m\u001b[0;34m\u001b[0m\u001b[0m\n\u001b[1;32m    920\u001b[0m                  compression=None):\n\u001b[0;32m--> 921\u001b[0;31m         state, call, = self._blocking(request, timeout, metadata, credentials,\n\u001b[0m\u001b[1;32m    922\u001b[0m                                       wait_for_ready, compression)\n\u001b[1;32m    923\u001b[0m         \u001b[0;32mreturn\u001b[0m \u001b[0m_end_unary_response_blocking\u001b[0m\u001b[0;34m(\u001b[0m\u001b[0mstate\u001b[0m\u001b[0;34m,\u001b[0m \u001b[0mcall\u001b[0m\u001b[0;34m,\u001b[0m \u001b[0;32mFalse\u001b[0m\u001b[0;34m,\u001b[0m \u001b[0;32mNone\u001b[0m\u001b[0;34m)\u001b[0m\u001b[0;34m\u001b[0m\u001b[0;34m\u001b[0m\u001b[0m\n",
      "\u001b[0;32m/opt/conda/miniconda3/lib/python3.8/site-packages/grpc/_channel.py\u001b[0m in \u001b[0;36m_blocking\u001b[0;34m(self, request, timeout, metadata, credentials, wait_for_ready, compression)\u001b[0m\n\u001b[1;32m    908\u001b[0m                     \u001b[0;32mNone\u001b[0m\u001b[0;34m,\u001b[0m\u001b[0;34m\u001b[0m\u001b[0;34m\u001b[0m\u001b[0m\n\u001b[1;32m    909\u001b[0m                 ),), self._context)\n\u001b[0;32m--> 910\u001b[0;31m             \u001b[0mevent\u001b[0m \u001b[0;34m=\u001b[0m \u001b[0mcall\u001b[0m\u001b[0;34m.\u001b[0m\u001b[0mnext_event\u001b[0m\u001b[0;34m(\u001b[0m\u001b[0;34m)\u001b[0m\u001b[0;34m\u001b[0m\u001b[0;34m\u001b[0m\u001b[0m\n\u001b[0m\u001b[1;32m    911\u001b[0m             \u001b[0m_handle_event\u001b[0m\u001b[0;34m(\u001b[0m\u001b[0mevent\u001b[0m\u001b[0;34m,\u001b[0m \u001b[0mstate\u001b[0m\u001b[0;34m,\u001b[0m \u001b[0mself\u001b[0m\u001b[0;34m.\u001b[0m\u001b[0m_response_deserializer\u001b[0m\u001b[0;34m)\u001b[0m\u001b[0;34m\u001b[0m\u001b[0;34m\u001b[0m\u001b[0m\n\u001b[1;32m    912\u001b[0m             \u001b[0;32mreturn\u001b[0m \u001b[0mstate\u001b[0m\u001b[0;34m,\u001b[0m \u001b[0mcall\u001b[0m\u001b[0;34m\u001b[0m\u001b[0;34m\u001b[0m\u001b[0m\n",
      "\u001b[0;32msrc/python/grpcio/grpc/_cython/_cygrpc/channel.pyx.pxi\u001b[0m in \u001b[0;36mgrpc._cython.cygrpc.SegregatedCall.next_event\u001b[0;34m()\u001b[0m\n",
      "\u001b[0;32msrc/python/grpcio/grpc/_cython/_cygrpc/channel.pyx.pxi\u001b[0m in \u001b[0;36mgrpc._cython.cygrpc._next_call_event\u001b[0;34m()\u001b[0m\n",
      "\u001b[0;32msrc/python/grpcio/grpc/_cython/_cygrpc/channel.pyx.pxi\u001b[0m in \u001b[0;36mgrpc._cython.cygrpc._next_call_event\u001b[0;34m()\u001b[0m\n",
      "\u001b[0;32msrc/python/grpcio/grpc/_cython/_cygrpc/metadata.pyx.pxi\u001b[0m in \u001b[0;36mgrpc._cython.cygrpc._metadatum\u001b[0;34m()\u001b[0m\n",
      "\u001b[0;32msrc/python/grpcio/grpc/_cython/_cygrpc/completion_queue.pyx.pxi\u001b[0m in \u001b[0;36mgrpc._cython.cygrpc._interpret_event\u001b[0;34m()\u001b[0m\n",
      "\u001b[0;32msrc/python/grpcio/grpc/_cython/_cygrpc/tag.pyx.pxi\u001b[0m in \u001b[0;36mgrpc._cython.cygrpc._BatchOperationTag.event\u001b[0;34m()\u001b[0m\n",
      "\u001b[0;32msrc/python/grpcio/grpc/_cython/_cygrpc/operation.pyx.pxi\u001b[0m in \u001b[0;36mgrpc._cython.cygrpc.ReceiveInitialMetadataOperation.un_c\u001b[0;34m()\u001b[0m\n",
      "\u001b[0;32msrc/python/grpcio/grpc/_cython/_cygrpc/metadata.pyx.pxi\u001b[0m in \u001b[0;36mgrpc._cython.cygrpc._metadata\u001b[0;34m()\u001b[0m\n",
      "\u001b[0;32msrc/python/grpcio/grpc/_cython/_cygrpc/metadata.pyx.pxi\u001b[0m in \u001b[0;36mgenexpr\u001b[0;34m()\u001b[0m\n",
      "\u001b[0;32msrc/python/grpcio/grpc/_cython/_cygrpc/metadata.pyx.pxi\u001b[0m in \u001b[0;36mgrpc._cython.cygrpc._metadatum\u001b[0;34m()\u001b[0m\n",
      "\u001b[0;32m<string>\u001b[0m in \u001b[0;36m__new__\u001b[0;34m(_cls, key, value)\u001b[0m\n",
      "\u001b[0;31mKeyboardInterrupt\u001b[0m: "
     ]
    }
   ],
   "source": [
    "%%time\n",
    "counter = 0\n",
    "# with option_context('compute.max_rows', 10000000000): \n",
    "#     kdf_nodes.apply(gnode_create,axis='columns')\n",
    "try:\n",
    "    kdf_nodes.apply(gnode_create,axis='columns')\n",
    "\n",
    "except ValueError:\n",
    "    print(\"Value error with counter @ {}\".format(counter))\n",
    "    \n"
   ]
  },
  {
   "cell_type": "code",
   "execution_count": null,
   "metadata": {},
   "outputs": [],
   "source": []
  }
 ],
 "metadata": {
  "kernelspec": {
   "display_name": "PySpark",
   "language": "python",
   "name": "pyspark"
  },
  "language_info": {
   "codemirror_mode": {
    "name": "ipython",
    "version": 3
   },
   "file_extension": ".py",
   "mimetype": "text/x-python",
   "name": "python",
   "nbconvert_exporter": "python",
   "pygments_lexer": "ipython3",
   "version": "3.8.8"
  }
 },
 "nbformat": 4,
 "nbformat_minor": 4
}