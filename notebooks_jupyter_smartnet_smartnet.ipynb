{
 "cells": [
  {
   "cell_type": "code",
   "execution_count": 1,
   "metadata": {},
   "outputs": [],
   "source": [
    "!hadoop fs -copyToLocal gs://markii-storage/* /tmp/"
   ]
  },
  {
   "cell_type": "code",
   "execution_count": 4,
   "metadata": {},
   "outputs": [],
   "source": [
    "import pandas as pd\n",
    "import argparse\n",
    "from collections import defaultdict\n",
    "import datetime\n",
    "from pprint import pprint\n",
    "from google.cloud import datastore\n",
    "import google.cloud.exceptions"
   ]
  },
  {
   "cell_type": "code",
   "execution_count": 5,
   "metadata": {},
   "outputs": [],
   "source": [
    "client = datastore.Client()"
   ]
  },
  {
   "cell_type": "code",
   "execution_count": 7,
   "metadata": {},
   "outputs": [
    {
     "data": {
      "text/plain": [
       "1.06348721"
      ]
     },
     "execution_count": 7,
     "metadata": {},
     "output_type": "execute_result"
    }
   ],
   "source": [
    "print(\"{}%\".format(round(1321/124214,10)*100))"
   ]
  },
  {
   "cell_type": "code",
   "execution_count": 6,
   "metadata": {},
   "outputs": [],
   "source": [
    "def gnode_create(client, row):\n",
    "    \n",
    "    key = client.key(\"node\",row[\"cid\"])\n",
    "    task = datastore.Entity(key)\n",
    "    task.update(\n",
    "        {\n",
    "            \"email\":row[\"email\"],\n",
    "            \"mobile\":row[\"mobile_pager_number\"],\n",
    "            \"home\":row[\"home_tel_number\"],\n",
    "            \"ip\":row[\"ip_address_array\"],\n",
    "            \"join_date\":row[\"join_date\"],\n",
    "        }\n",
    "    )\n",
    "    client.put(task)"
   ]
  },
  {
   "cell_type": "code",
   "execution_count": 7,
   "metadata": {},
   "outputs": [],
   "source": [
    "nodes = pd.read_csv(\"/tmp/nodes.csv\")\n",
    "edges = pd.read_csv(\"/tmp/links.csv\")"
   ]
  },
  {
   "cell_type": "code",
   "execution_count": 8,
   "metadata": {},
   "outputs": [
    {
     "name": "stdout",
     "output_type": "stream",
     "text": [
      "<class 'pandas.core.frame.DataFrame'>\n",
      "RangeIndex: 194217 entries, 0 to 194216\n",
      "Data columns (total 17 columns):\n",
      " #   Column                              Non-Null Count   Dtype  \n",
      "---  ------                              --------------   -----  \n",
      " 0   cid                                 194217 non-null  object \n",
      " 1   first_datetime                      194217 non-null  object \n",
      " 2   last_datetime                       194217 non-null  object \n",
      " 3   count_of_sending                    194217 non-null  int64  \n",
      " 4   amount_of_sending                   194217 non-null  float64\n",
      " 5   count_of_receiving                  194217 non-null  int64  \n",
      " 6   amount_of_receiving                 194217 non-null  float64\n",
      " 7   count_of_rbwm_csem_connections      194217 non-null  int64  \n",
      " 8   count_of_non_rbwm_csem_connections  194217 non-null  int64  \n",
      " 9   count_of_rbwm_caut_connections      194217 non-null  int64  \n",
      " 10  count_of_non_rbwm_caut_connections  194217 non-null  int64  \n",
      " 11  count_of_total_connections          194217 non-null  int64  \n",
      " 12  join_date                           194217 non-null  object \n",
      " 13  ip_address_array                    194217 non-null  object \n",
      " 14  email                               194217 non-null  object \n",
      " 15  home_tel_number                     194217 non-null  int64  \n",
      " 16  mobile_pager_number                 194217 non-null  int64  \n",
      "dtypes: float64(2), int64(9), object(6)\n",
      "memory usage: 25.2+ MB\n"
     ]
    }
   ],
   "source": [
    "nodes.info()"
   ]
  },
  {
   "cell_type": "code",
   "execution_count": 25,
   "metadata": {},
   "outputs": [
    {
     "data": {
      "text/html": [
       "<div>\n",
       "<style scoped>\n",
       "    .dataframe tbody tr th:only-of-type {\n",
       "        vertical-align: middle;\n",
       "    }\n",
       "\n",
       "    .dataframe tbody tr th {\n",
       "        vertical-align: top;\n",
       "    }\n",
       "\n",
       "    .dataframe thead th {\n",
       "        text-align: right;\n",
       "    }\n",
       "</style>\n",
       "<table border=\"1\" class=\"dataframe\">\n",
       "  <thead>\n",
       "    <tr style=\"text-align: right;\">\n",
       "      <th></th>\n",
       "      <th>cid</th>\n",
       "      <th>first_datetime</th>\n",
       "      <th>last_datetime</th>\n",
       "      <th>count_of_sending</th>\n",
       "      <th>amount_of_sending</th>\n",
       "      <th>count_of_receiving</th>\n",
       "      <th>amount_of_receiving</th>\n",
       "      <th>count_of_rbwm_csem_connections</th>\n",
       "      <th>count_of_non_rbwm_csem_connections</th>\n",
       "      <th>count_of_rbwm_caut_connections</th>\n",
       "      <th>count_of_non_rbwm_caut_connections</th>\n",
       "      <th>count_of_total_connections</th>\n",
       "      <th>join_date</th>\n",
       "      <th>ip_address_array</th>\n",
       "      <th>email</th>\n",
       "      <th>home_tel_number</th>\n",
       "      <th>mobile_pager_number</th>\n",
       "    </tr>\n",
       "  </thead>\n",
       "  <tbody>\n",
       "    <tr>\n",
       "      <th>185059</th>\n",
       "      <td>0xf3e36ad56aa85abdacc18c02d19509ae4f7d5899</td>\n",
       "      <td>1/15/2019 9:00</td>\n",
       "      <td>1/15/2019 9:00</td>\n",
       "      <td>2170</td>\n",
       "      <td>3637.962664</td>\n",
       "      <td>0</td>\n",
       "      <td>0.0</td>\n",
       "      <td>16</td>\n",
       "      <td>48</td>\n",
       "      <td>15</td>\n",
       "      <td>52</td>\n",
       "      <td>238</td>\n",
       "      <td>6/9/2007 0:00</td>\n",
       "      <td>[\"6.185.144.163\"]</td>\n",
       "      <td>757@gmail.com</td>\n",
       "      <td>7051</td>\n",
       "      <td>2981</td>\n",
       "    </tr>\n",
       "  </tbody>\n",
       "</table>\n",
       "</div>"
      ],
      "text/plain": [
       "                                               cid  first_datetime  \\\n",
       "185059  0xf3e36ad56aa85abdacc18c02d19509ae4f7d5899  1/15/2019 9:00   \n",
       "\n",
       "         last_datetime  count_of_sending  amount_of_sending  \\\n",
       "185059  1/15/2019 9:00              2170        3637.962664   \n",
       "\n",
       "        count_of_receiving  amount_of_receiving  \\\n",
       "185059                   0                  0.0   \n",
       "\n",
       "        count_of_rbwm_csem_connections  count_of_non_rbwm_csem_connections  \\\n",
       "185059                              16                                  48   \n",
       "\n",
       "        count_of_rbwm_caut_connections  count_of_non_rbwm_caut_connections  \\\n",
       "185059                              15                                  52   \n",
       "\n",
       "        count_of_total_connections      join_date   ip_address_array  \\\n",
       "185059                         238  6/9/2007 0:00  [\"6.185.144.163\"]   \n",
       "\n",
       "                email  home_tel_number  mobile_pager_number  \n",
       "185059  757@gmail.com             7051                 2981  "
      ]
     },
     "execution_count": 25,
     "metadata": {},
     "output_type": "execute_result"
    }
   ],
   "source": [
    "type(nodes)\n",
    "\n",
    "nodes.loc[nodes[\"cid\"] == \"0xf3e36ad56aa85abdacc18c02d19509ae4f7d5899\"]"
   ]
  },
  {
   "cell_type": "code",
   "execution_count": null,
   "metadata": {},
   "outputs": [],
   "source": [
    "for index, row in nodes.iterrows():\n",
    "    gnode_create(client,row)"
   ]
  },
  {
   "cell_type": "code",
   "execution_count": null,
   "metadata": {},
   "outputs": [],
   "source": [
    "len(nodes.cid.unique())"
   ]
  },
  {
   "cell_type": "code",
   "execution_count": 10,
   "metadata": {},
   "outputs": [
    {
     "name": "stdout",
     "output_type": "stream",
     "text": [
      "<class 'pandas.core.frame.DataFrame'>\n",
      "RangeIndex: 219806 entries, 0 to 219805\n",
      "Data columns (total 14 columns):\n",
      " #   Column               Non-Null Count   Dtype  \n",
      "---  ------               --------------   -----  \n",
      " 0   sender               219806 non-null  object \n",
      " 1   receiver             219806 non-null  object \n",
      " 2   sender_cds_caut      219806 non-null  int64  \n",
      " 3   receiver_cds_caut    219806 non-null  int64  \n",
      " 4   sender_cds_csem      219806 non-null  int64  \n",
      " 5   receiver_cds_csem    219806 non-null  int64  \n",
      " 6   sender_csem_exit     0 non-null       float64\n",
      " 7   receiver_csem_exit   0 non-null       float64\n",
      " 8   first_datetime       219806 non-null  object \n",
      " 9   last_datetime        219806 non-null  object \n",
      " 10  count_of_sending     219806 non-null  int64  \n",
      " 11  count_of_receiving   219806 non-null  int64  \n",
      " 12  amount_of_sending    219806 non-null  float64\n",
      " 13  amount_of_receiving  219806 non-null  float64\n",
      "dtypes: float64(4), int64(6), object(4)\n",
      "memory usage: 23.5+ MB\n"
     ]
    }
   ],
   "source": [
    "edges.info()"
   ]
  },
  {
   "cell_type": "code",
   "execution_count": 33,
   "metadata": {},
   "outputs": [
    {
     "name": "stdout",
     "output_type": "stream",
     "text": [
      "0 - Sender: 0x0000000048246c5f37df029bef0cefd9ee36f301, Receiver:0xe87729bcf07cd2be7333a393b94c0959e30d9f96\n",
      "1 - Sender: 0x00004225550a3942d1877a3a43df923eb5279a5b, Receiver:0xb3aaaae47070264f3595c5032ee94b620a583a39\n"
     ]
    }
   ],
   "source": [
    "# next(edges.head().iterrows())\n",
    "for index, row in edges.head(n=2).iterrows():\n",
    "    print(\"{} - Sender: {}, Receiver:{}\".format(index,row[\"sender\"],row[\"receiver\"]))"
   ]
  },
  {
   "cell_type": "code",
   "execution_count": 11,
   "metadata": {},
   "outputs": [
    {
     "name": "stdout",
     "output_type": "stream",
     "text": [
      "<class 'pandas.core.frame.DataFrame'>\n",
      "RangeIndex: 219806 entries, 0 to 219805\n",
      "Data columns (total 14 columns):\n",
      " #   Column               Non-Null Count   Dtype  \n",
      "---  ------               --------------   -----  \n",
      " 0   sender               219806 non-null  object \n",
      " 1   receiver             219806 non-null  object \n",
      " 2   sender_cds_caut      219806 non-null  int64  \n",
      " 3   receiver_cds_caut    219806 non-null  int64  \n",
      " 4   sender_cds_csem      219806 non-null  int64  \n",
      " 5   receiver_cds_csem    219806 non-null  int64  \n",
      " 6   sender_csem_exit     0 non-null       float64\n",
      " 7   receiver_csem_exit   0 non-null       float64\n",
      " 8   first_datetime       219806 non-null  object \n",
      " 9   last_datetime        219806 non-null  object \n",
      " 10  count_of_sending     219806 non-null  int64  \n",
      " 11  count_of_receiving   219806 non-null  int64  \n",
      " 12  amount_of_sending    219806 non-null  float64\n",
      " 13  amount_of_receiving  219806 non-null  float64\n",
      "dtypes: float64(4), int64(6), object(4)\n",
      "memory usage: 23.5+ MB\n"
     ]
    }
   ],
   "source": [
    "edges.info()"
   ]
  },
  {
   "cell_type": "code",
   "execution_count": 15,
   "metadata": {},
   "outputs": [
    {
     "data": {
      "text/html": [
       "<div>\n",
       "<style scoped>\n",
       "    .dataframe tbody tr th:only-of-type {\n",
       "        vertical-align: middle;\n",
       "    }\n",
       "\n",
       "    .dataframe tbody tr th {\n",
       "        vertical-align: top;\n",
       "    }\n",
       "\n",
       "    .dataframe thead th {\n",
       "        text-align: right;\n",
       "    }\n",
       "</style>\n",
       "<table border=\"1\" class=\"dataframe\">\n",
       "  <thead>\n",
       "    <tr style=\"text-align: right;\">\n",
       "      <th></th>\n",
       "      <th>sender</th>\n",
       "      <th>receiver</th>\n",
       "      <th>sender_cds_caut</th>\n",
       "      <th>receiver_cds_caut</th>\n",
       "      <th>sender_cds_csem</th>\n",
       "      <th>receiver_cds_csem</th>\n",
       "      <th>sender_csem_exit</th>\n",
       "      <th>receiver_csem_exit</th>\n",
       "      <th>first_datetime</th>\n",
       "      <th>last_datetime</th>\n",
       "      <th>count_of_sending</th>\n",
       "      <th>count_of_receiving</th>\n",
       "      <th>amount_of_sending</th>\n",
       "      <th>amount_of_receiving</th>\n",
       "    </tr>\n",
       "  </thead>\n",
       "  <tbody>\n",
       "    <tr>\n",
       "      <th>0</th>\n",
       "      <td>0x0000000048246c5f37df029bef0cefd9ee36f301</td>\n",
       "      <td>0xe87729bcf07cd2be7333a393b94c0959e30d9f96</td>\n",
       "      <td>0</td>\n",
       "      <td>0</td>\n",
       "      <td>0</td>\n",
       "      <td>1</td>\n",
       "      <td>NaN</td>\n",
       "      <td>NaN</td>\n",
       "      <td>5/15/2018 9:00</td>\n",
       "      <td>1/15/2019 9:00</td>\n",
       "      <td>7</td>\n",
       "      <td>0</td>\n",
       "      <td>0.100490</td>\n",
       "      <td>0.0</td>\n",
       "    </tr>\n",
       "    <tr>\n",
       "      <th>142701</th>\n",
       "      <td>0xf646cbe3b030fb6c2569215f0117dba58badb95e</td>\n",
       "      <td>0x81f5e2d85f721bfa04aca163221e874fd52230f5</td>\n",
       "      <td>0</td>\n",
       "      <td>0</td>\n",
       "      <td>0</td>\n",
       "      <td>0</td>\n",
       "      <td>NaN</td>\n",
       "      <td>NaN</td>\n",
       "      <td>5/15/2018 9:00</td>\n",
       "      <td>1/15/2019 9:00</td>\n",
       "      <td>7</td>\n",
       "      <td>0</td>\n",
       "      <td>1.175995</td>\n",
       "      <td>0.0</td>\n",
       "    </tr>\n",
       "    <tr>\n",
       "      <th>142702</th>\n",
       "      <td>0xf646cbe3b030fb6c2569215f0117dba58badb95e</td>\n",
       "      <td>0x82c15377a50a4f99c458990ad95c8a8073030ae0</td>\n",
       "      <td>0</td>\n",
       "      <td>1</td>\n",
       "      <td>0</td>\n",
       "      <td>0</td>\n",
       "      <td>NaN</td>\n",
       "      <td>NaN</td>\n",
       "      <td>5/15/2018 9:00</td>\n",
       "      <td>1/15/2019 9:00</td>\n",
       "      <td>7</td>\n",
       "      <td>0</td>\n",
       "      <td>0.479759</td>\n",
       "      <td>0.0</td>\n",
       "    </tr>\n",
       "    <tr>\n",
       "      <th>142703</th>\n",
       "      <td>0xf646cbe3b030fb6c2569215f0117dba58badb95e</td>\n",
       "      <td>0x83d4731a01ef91787539f0d044875cd7c26919e4</td>\n",
       "      <td>0</td>\n",
       "      <td>0</td>\n",
       "      <td>0</td>\n",
       "      <td>1</td>\n",
       "      <td>NaN</td>\n",
       "      <td>NaN</td>\n",
       "      <td>5/15/2018 9:00</td>\n",
       "      <td>1/15/2019 9:00</td>\n",
       "      <td>7</td>\n",
       "      <td>0</td>\n",
       "      <td>0.117558</td>\n",
       "      <td>0.0</td>\n",
       "    </tr>\n",
       "    <tr>\n",
       "      <th>142704</th>\n",
       "      <td>0xf646cbe3b030fb6c2569215f0117dba58badb95e</td>\n",
       "      <td>0x8a027c33ef11065d62a06694120520ed6e9eb420</td>\n",
       "      <td>0</td>\n",
       "      <td>1</td>\n",
       "      <td>0</td>\n",
       "      <td>1</td>\n",
       "      <td>NaN</td>\n",
       "      <td>NaN</td>\n",
       "      <td>5/15/2018 9:00</td>\n",
       "      <td>1/15/2019 9:00</td>\n",
       "      <td>7</td>\n",
       "      <td>0</td>\n",
       "      <td>2.355469</td>\n",
       "      <td>0.0</td>\n",
       "    </tr>\n",
       "    <tr>\n",
       "      <th>...</th>\n",
       "      <td>...</td>\n",
       "      <td>...</td>\n",
       "      <td>...</td>\n",
       "      <td>...</td>\n",
       "      <td>...</td>\n",
       "      <td>...</td>\n",
       "      <td>...</td>\n",
       "      <td>...</td>\n",
       "      <td>...</td>\n",
       "      <td>...</td>\n",
       "      <td>...</td>\n",
       "      <td>...</td>\n",
       "      <td>...</td>\n",
       "      <td>...</td>\n",
       "    </tr>\n",
       "    <tr>\n",
       "      <th>78532</th>\n",
       "      <td>0x8958618332df62af93053cb9c535e26462c959b0</td>\n",
       "      <td>0xceecde0d0e013ed1cb952d09e71cb4c8a4195ec9</td>\n",
       "      <td>1</td>\n",
       "      <td>0</td>\n",
       "      <td>0</td>\n",
       "      <td>0</td>\n",
       "      <td>NaN</td>\n",
       "      <td>NaN</td>\n",
       "      <td>5/15/2018 9:00</td>\n",
       "      <td>1/15/2019 9:00</td>\n",
       "      <td>14</td>\n",
       "      <td>0</td>\n",
       "      <td>0.020160</td>\n",
       "      <td>0.0</td>\n",
       "    </tr>\n",
       "    <tr>\n",
       "      <th>36486</th>\n",
       "      <td>0x39f25440c2fba2ba70ebc935b038267f83bbbf1a</td>\n",
       "      <td>BinanceWallet</td>\n",
       "      <td>1</td>\n",
       "      <td>0</td>\n",
       "      <td>0</td>\n",
       "      <td>0</td>\n",
       "      <td>NaN</td>\n",
       "      <td>NaN</td>\n",
       "      <td>5/15/2018 9:00</td>\n",
       "      <td>1/15/2019 9:00</td>\n",
       "      <td>7</td>\n",
       "      <td>0</td>\n",
       "      <td>3.813294</td>\n",
       "      <td>0.0</td>\n",
       "    </tr>\n",
       "    <tr>\n",
       "      <th>36485</th>\n",
       "      <td>0x39f19d5ebeb9b4f2b214fff69596e0d11266269f</td>\n",
       "      <td>0x8958618332df62af93053cb9c535e26462c959b0</td>\n",
       "      <td>1</td>\n",
       "      <td>1</td>\n",
       "      <td>0</td>\n",
       "      <td>0</td>\n",
       "      <td>NaN</td>\n",
       "      <td>NaN</td>\n",
       "      <td>5/15/2018 9:00</td>\n",
       "      <td>1/15/2019 9:00</td>\n",
       "      <td>7</td>\n",
       "      <td>0</td>\n",
       "      <td>2.795423</td>\n",
       "      <td>0.0</td>\n",
       "    </tr>\n",
       "    <tr>\n",
       "      <th>78524</th>\n",
       "      <td>0x8958618332df62af93053cb9c535e26462c959b0</td>\n",
       "      <td>0xca503658955f059c1bf0ad9854b648956ebe9ed6</td>\n",
       "      <td>1</td>\n",
       "      <td>0</td>\n",
       "      <td>0</td>\n",
       "      <td>0</td>\n",
       "      <td>NaN</td>\n",
       "      <td>NaN</td>\n",
       "      <td>5/15/2018 9:00</td>\n",
       "      <td>1/15/2019 9:00</td>\n",
       "      <td>7</td>\n",
       "      <td>0</td>\n",
       "      <td>15.416664</td>\n",
       "      <td>0.0</td>\n",
       "    </tr>\n",
       "    <tr>\n",
       "      <th>219805</th>\n",
       "      <td>ZebiWallet</td>\n",
       "      <td>0x1eb48c64ad71837a6ed57e4a2dab88173c833054</td>\n",
       "      <td>1</td>\n",
       "      <td>0</td>\n",
       "      <td>0</td>\n",
       "      <td>0</td>\n",
       "      <td>NaN</td>\n",
       "      <td>NaN</td>\n",
       "      <td>5/15/2018 9:00</td>\n",
       "      <td>1/15/2019 9:00</td>\n",
       "      <td>7</td>\n",
       "      <td>0</td>\n",
       "      <td>175.000000</td>\n",
       "      <td>0.0</td>\n",
       "    </tr>\n",
       "  </tbody>\n",
       "</table>\n",
       "<p>219806 rows × 14 columns</p>\n",
       "</div>"
      ],
      "text/plain": [
       "                                            sender  \\\n",
       "0       0x0000000048246c5f37df029bef0cefd9ee36f301   \n",
       "142701  0xf646cbe3b030fb6c2569215f0117dba58badb95e   \n",
       "142702  0xf646cbe3b030fb6c2569215f0117dba58badb95e   \n",
       "142703  0xf646cbe3b030fb6c2569215f0117dba58badb95e   \n",
       "142704  0xf646cbe3b030fb6c2569215f0117dba58badb95e   \n",
       "...                                            ...   \n",
       "78532   0x8958618332df62af93053cb9c535e26462c959b0   \n",
       "36486   0x39f25440c2fba2ba70ebc935b038267f83bbbf1a   \n",
       "36485   0x39f19d5ebeb9b4f2b214fff69596e0d11266269f   \n",
       "78524   0x8958618332df62af93053cb9c535e26462c959b0   \n",
       "219805                                  ZebiWallet   \n",
       "\n",
       "                                          receiver  sender_cds_caut  \\\n",
       "0       0xe87729bcf07cd2be7333a393b94c0959e30d9f96                0   \n",
       "142701  0x81f5e2d85f721bfa04aca163221e874fd52230f5                0   \n",
       "142702  0x82c15377a50a4f99c458990ad95c8a8073030ae0                0   \n",
       "142703  0x83d4731a01ef91787539f0d044875cd7c26919e4                0   \n",
       "142704  0x8a027c33ef11065d62a06694120520ed6e9eb420                0   \n",
       "...                                            ...              ...   \n",
       "78532   0xceecde0d0e013ed1cb952d09e71cb4c8a4195ec9                1   \n",
       "36486                                BinanceWallet                1   \n",
       "36485   0x8958618332df62af93053cb9c535e26462c959b0                1   \n",
       "78524   0xca503658955f059c1bf0ad9854b648956ebe9ed6                1   \n",
       "219805  0x1eb48c64ad71837a6ed57e4a2dab88173c833054                1   \n",
       "\n",
       "        receiver_cds_caut  sender_cds_csem  receiver_cds_csem  \\\n",
       "0                       0                0                  1   \n",
       "142701                  0                0                  0   \n",
       "142702                  1                0                  0   \n",
       "142703                  0                0                  1   \n",
       "142704                  1                0                  1   \n",
       "...                   ...              ...                ...   \n",
       "78532                   0                0                  0   \n",
       "36486                   0                0                  0   \n",
       "36485                   1                0                  0   \n",
       "78524                   0                0                  0   \n",
       "219805                  0                0                  0   \n",
       "\n",
       "        sender_csem_exit  receiver_csem_exit  first_datetime   last_datetime  \\\n",
       "0                    NaN                 NaN  5/15/2018 9:00  1/15/2019 9:00   \n",
       "142701               NaN                 NaN  5/15/2018 9:00  1/15/2019 9:00   \n",
       "142702               NaN                 NaN  5/15/2018 9:00  1/15/2019 9:00   \n",
       "142703               NaN                 NaN  5/15/2018 9:00  1/15/2019 9:00   \n",
       "142704               NaN                 NaN  5/15/2018 9:00  1/15/2019 9:00   \n",
       "...                  ...                 ...             ...             ...   \n",
       "78532                NaN                 NaN  5/15/2018 9:00  1/15/2019 9:00   \n",
       "36486                NaN                 NaN  5/15/2018 9:00  1/15/2019 9:00   \n",
       "36485                NaN                 NaN  5/15/2018 9:00  1/15/2019 9:00   \n",
       "78524                NaN                 NaN  5/15/2018 9:00  1/15/2019 9:00   \n",
       "219805               NaN                 NaN  5/15/2018 9:00  1/15/2019 9:00   \n",
       "\n",
       "        count_of_sending  count_of_receiving  amount_of_sending  \\\n",
       "0                      7                   0           0.100490   \n",
       "142701                 7                   0           1.175995   \n",
       "142702                 7                   0           0.479759   \n",
       "142703                 7                   0           0.117558   \n",
       "142704                 7                   0           2.355469   \n",
       "...                  ...                 ...                ...   \n",
       "78532                 14                   0           0.020160   \n",
       "36486                  7                   0           3.813294   \n",
       "36485                  7                   0           2.795423   \n",
       "78524                  7                   0          15.416664   \n",
       "219805                 7                   0         175.000000   \n",
       "\n",
       "        amount_of_receiving  \n",
       "0                       0.0  \n",
       "142701                  0.0  \n",
       "142702                  0.0  \n",
       "142703                  0.0  \n",
       "142704                  0.0  \n",
       "...                     ...  \n",
       "78532                   0.0  \n",
       "36486                   0.0  \n",
       "36485                   0.0  \n",
       "78524                   0.0  \n",
       "219805                  0.0  \n",
       "\n",
       "[219806 rows x 14 columns]"
      ]
     },
     "execution_count": 15,
     "metadata": {},
     "output_type": "execute_result"
    }
   ],
   "source": [
    "edges.sort_values(by=[\"sender_cds_caut\"])"
   ]
  },
  {
   "cell_type": "code",
   "execution_count": 50,
   "metadata": {},
   "outputs": [
    {
     "name": "stdout",
     "output_type": "stream",
     "text": [
      "Collecting datatable\n",
      "  Downloading datatable-0.11.1-cp38-cp38-manylinux2010_x86_64.whl (83.7 MB)\n",
      "\u001b[K     |████████████████████████████████| 83.7 MB 92 kB/s s eta 0:00:01\n",
      "\u001b[?25hInstalling collected packages: datatable\n",
      "Successfully installed datatable-0.11.1\n"
     ]
    }
   ],
   "source": [
    "!pip install datatable"
   ]
  },
  {
   "cell_type": "code",
   "execution_count": 9,
   "metadata": {},
   "outputs": [],
   "source": [
    "import datatable as dt\n",
    "from datatable import f, min, max, sum, mean, by, count, sort"
   ]
  },
  {
   "cell_type": "code",
   "execution_count": 2,
   "metadata": {},
   "outputs": [],
   "source": [
    "dt_nodes = dt.fread(\"/tmp/nodes.csv\")"
   ]
  },
  {
   "cell_type": "code",
   "execution_count": 10,
   "metadata": {},
   "outputs": [
    {
     "data": {
      "text/html": [
       "<div class='datatable'>\n",
       "  <table class='frame'>\n",
       "  <thead>\n",
       "    <tr class='colnames'><td class='row_index'></td><th>cid</th><th>first_datetime</th><th>last_datetime</th><th>count_of_sending</th><th>amount_of_sending</th><th>count_of_receiving</th><th>amount_of_receiving</th><th>count_of_rbwm_csem_connections</th><th>count_of_non_rbwm_csem_connections</th><th>count_of_rbwm_caut_connections</th><th class='vellipsis'>&hellip;</th><th>join_date</th><th>ip_address_array</th><th>email</th><th>home_tel_number</th><th>mobile_pager_number</th></tr>\n",
       "    <tr class='coltypes'><td class='row_index'></td><td class='str' title='str32'>&#x25AA;&#x25AA;&#x25AA;&#x25AA;</td><td class='str' title='str32'>&#x25AA;&#x25AA;&#x25AA;&#x25AA;</td><td class='str' title='str32'>&#x25AA;&#x25AA;&#x25AA;&#x25AA;</td><td class='int' title='int32'>&#x25AA;&#x25AA;&#x25AA;&#x25AA;</td><td class='float' title='float64'>&#x25AA;&#x25AA;&#x25AA;&#x25AA;&#x25AA;&#x25AA;&#x25AA;&#x25AA;</td><td class='int' title='int32'>&#x25AA;&#x25AA;&#x25AA;&#x25AA;</td><td class='float' title='float64'>&#x25AA;&#x25AA;&#x25AA;&#x25AA;&#x25AA;&#x25AA;&#x25AA;&#x25AA;</td><td class='int' title='int32'>&#x25AA;&#x25AA;&#x25AA;&#x25AA;</td><td class='int' title='int32'>&#x25AA;&#x25AA;&#x25AA;&#x25AA;</td><td class='int' title='int32'>&#x25AA;&#x25AA;&#x25AA;&#x25AA;</td><td></td><td class='str' title='str32'>&#x25AA;&#x25AA;&#x25AA;&#x25AA;</td><td class='str' title='str32'>&#x25AA;&#x25AA;&#x25AA;&#x25AA;</td><td class='str' title='str32'>&#x25AA;&#x25AA;&#x25AA;&#x25AA;</td><td class='int' title='int32'>&#x25AA;&#x25AA;&#x25AA;&#x25AA;</td><td class='int' title='int32'>&#x25AA;&#x25AA;&#x25AA;&#x25AA;</td></tr>\n",
       "  </thead>\n",
       "  <tbody>\n",
       "    <tr><td class='row_index'>0</td><td>0x0000000048246c5f37df029bef0cefd9ee36f301</td><td>1/15/2019 9:00</td><td>1/15/2019 9:00</td><td>7</td><td>0.10049</td><td>0</td><td>0</td><td>1</td><td>0</td><td>0</td><td class=vellipsis>&hellip;</td><td>3/27/2008 0:00</td><td>[\"241.92.245.185\",\"188.22.55.210\",\"58.215.140.56\",&#133;</td><td>8526@gmail.com</td><td>2092</td><td>4882</td></tr>\n",
       "    <tr><td class='row_index'>1</td><td>0x000000988c55d7aab7ccfda5bb273b7294fcbac5</td><td>1/15/2019 9:00</td><td>1/15/2019 9:00</td><td>0</td><td>0</td><td>7</td><td>0.011004</td><td>0</td><td>1</td><td>0</td><td class=vellipsis>&hellip;</td><td>6/22/1995 0:00</td><td>[\"113.141.115.152\",\"120.228.13.147\",\"191.29.83.74\"&#133;</td><td>8136@gmail.com</td><td>6033</td><td>5758</td></tr>\n",
       "    <tr><td class='row_index'>2</td><td>0x00004225550a3942d1877a3a43df923eb5279a5b</td><td>1/15/2019 9:00</td><td>1/15/2019 9:00</td><td>7</td><td>0.347569</td><td>7</td><td>0.350509</td><td>0</td><td>1</td><td>0</td><td class=vellipsis>&hellip;</td><td>6/14/2015 0:00</td><td>[\"160.88.215.46\",\"187.240.128.176\",\"195.224.24.213&#133;</td><td>691@gmail.com</td><td>6183</td><td>8840</td></tr>\n",
       "    <tr><td class='row_index'>3</td><td>0x00008e23e286645c9c1e13ec3b02e18d0ddd1d7d</td><td>1/15/2019 9:00</td><td>1/15/2019 9:00</td><td>7</td><td>2.29785</td><td>7</td><td>2.29932</td><td>0</td><td>1</td><td>0</td><td class=vellipsis>&hellip;</td><td>9/30/2016 0:00</td><td>[\"230.0.74.119\",\"98.95.183.118\",\"242.171.131.140\",&#133;</td><td>5654@gmail.com</td><td>1749</td><td>1785</td></tr>\n",
       "    <tr><td class='row_index'>4</td><td>0x000130c1447fe71a395b48952b545b1760f37f8e</td><td>1/15/2019 9:00</td><td>1/15/2019 9:00</td><td>0</td><td>0</td><td>7</td><td>0.537672</td><td>0</td><td>0</td><td>0</td><td class=vellipsis>&hellip;</td><td>1/21/2018 0:00</td><td>[\"115.221.252.86\",\"175.130.126.242\",\"45.126.238.49&#133;</td><td>3679@gmail.com</td><td>3041</td><td>4167</td></tr>\n",
       "    <tr><td class='row_index'>5</td><td>0x0001521497d440595f07232e4a094aaa98146c88</td><td>1/15/2019 9:00</td><td>1/15/2019 9:00</td><td>0</td><td>0</td><td>7</td><td>0.741661</td><td>0</td><td>1</td><td>0</td><td class=vellipsis>&hellip;</td><td>4/27/1993 0:00</td><td>[\"155.96.16.48\",\"183.150.200.40\",\"40.56.159.118\",\"&#133;</td><td>1713@gmail.com</td><td>6067</td><td>5193</td></tr>\n",
       "    <tr><td class='row_index'>6</td><td>0x000160175a96d7cc889a7357e69b95014a58285f</td><td>1/15/2019 9:00</td><td>1/15/2019 9:00</td><td>0</td><td>0</td><td>7</td><td>15.26</td><td>0</td><td>0</td><td>0</td><td class=vellipsis>&hellip;</td><td>8/12/2002 0:00</td><td>[\"192.52.194.49\",\"71.14.112.7\",\"131.137.36.27\",\"11&#133;</td><td>7764@gmail.com</td><td>3244</td><td>2926</td></tr>\n",
       "    <tr><td class='row_index'>7</td><td>0x0001f2fe9bc9e12b975d575f67321121e2579b6d</td><td>1/15/2019 9:00</td><td>1/15/2019 9:00</td><td>7</td><td>0.342718</td><td>7</td><td>0.350068</td><td>0</td><td>1</td><td>0</td><td class=vellipsis>&hellip;</td><td>10/5/2013 0:00</td><td>[\"113.27.48.162\",\"150.17.145.166\",\"175.218.54.128\"&#133;</td><td>4902@gmail.com</td><td>5729</td><td>3940</td></tr>\n",
       "    <tr><td class='row_index'>8</td><td>0x000231cbb2e11bfb52fd0d118db772ad27077ccf</td><td>1/15/2019 9:00</td><td>1/15/2019 9:00</td><td>0</td><td>0</td><td>7</td><td>0.809882</td><td>0</td><td>1</td><td>0</td><td class=vellipsis>&hellip;</td><td>4/5/2014 0:00</td><td>[\"126.43.92.75\",\"142.210.114.198\",\"156.39.239.56\",&#133;</td><td>2513@gmail.com</td><td>747</td><td>6196</td></tr>\n",
       "    <tr><td class='row_index'>9</td><td>0x00029638d51bd8ef7da7f43911aa9aaafe28dc7e</td><td>1/15/2019 9:00</td><td>1/15/2019 9:00</td><td>7</td><td>0.106384</td><td>0</td><td>0</td><td>0</td><td>0</td><td>0</td><td class=vellipsis>&hellip;</td><td>9/4/2010 0:00</td><td>[\"75.208.52.145\",\"81.221.96.73\",\"4.6.19.79\",\"137.9&#133;</td><td>8740@gmail.com</td><td>5113</td><td>9345</td></tr>\n",
       "    <tr><td class='row_index'>10</td><td>0x0002b633b48d35c71e601d490fd96cd371da3a86</td><td>1/15/2019 9:00</td><td>1/15/2019 9:00</td><td>0</td><td>0</td><td>7</td><td>0.07</td><td>0</td><td>0</td><td>0</td><td class=vellipsis>&hellip;</td><td>8/23/2018 0:00</td><td>[\"156.204.46.127\",\"210.125.247.99\",\"79.175.130.124&#133;</td><td>1386@gmail.com</td><td>8897</td><td>325</td></tr>\n",
       "    <tr><td class='row_index'>11</td><td>0x0002b759348faa51f4dced664fa91038cf956a00</td><td>1/15/2019 9:00</td><td>1/15/2019 9:00</td><td>14</td><td>0.0357093</td><td>0</td><td>0</td><td>0</td><td>0</td><td>0</td><td class=vellipsis>&hellip;</td><td>6/22/2014 0:00</td><td>[\"16.10.1.230\",\"229.12.135.132\",\"242.64.103.71\",\"6&#133;</td><td>4937@gmail.com</td><td>3709</td><td>3734</td></tr>\n",
       "    <tr><td class='row_index'>12</td><td>0x0002c2792a35952716a03039d7da9f1f4afeac08</td><td>1/15/2019 9:00</td><td>1/15/2019 9:00</td><td>0</td><td>0</td><td>7</td><td>0.492718</td><td>0</td><td>0</td><td>0</td><td class=vellipsis>&hellip;</td><td>2/5/1997 0:00</td><td>[\"127.42.82.32\",\"24.222.16.182\",\"254.112.51.174\",\"&#133;</td><td>7545@gmail.com</td><td>6525</td><td>9989</td></tr>\n",
       "    <tr><td class='row_index'>13</td><td>0x00030240d3328f9f5969a47242d0215311512dd5</td><td>1/15/2019 9:00</td><td>1/15/2019 9:00</td><td>7</td><td>0.716016</td><td>7</td><td>0.717486</td><td>0</td><td>1</td><td>0</td><td class=vellipsis>&hellip;</td><td>11/17/2004 0:00</td><td>[\"32.239.80.194\",\"96.188.142.149\",\"199.120.5.175\",&#133;</td><td>371@gmail.com</td><td>1887</td><td>8321</td></tr>\n",
       "    <tr><td class='row_index'>14</td><td>0x0003611a80f49188495a968b1179beaa0c701251</td><td>1/15/2019 9:00</td><td>1/15/2019 9:00</td><td>7</td><td>7e-05</td><td>0</td><td>0</td><td>0</td><td>0</td><td>0</td><td class=vellipsis>&hellip;</td><td>10/7/2013 0:00</td><td>[\"62.118.150.143\",\"9.52.231.236\",\"95.206.237.55\",\"&#133;</td><td>5947@gmail.com</td><td>4774</td><td>6028</td></tr>\n",
       "    <tr><td class='row_index'>&#x22EE;</td><td class='hellipsis'>&#x22EE;</td><td class='hellipsis'>&#x22EE;</td><td class='hellipsis'>&#x22EE;</td><td class='hellipsis'>&#x22EE;</td><td class='hellipsis'>&#x22EE;</td><td class='hellipsis'>&#x22EE;</td><td class='hellipsis'>&#x22EE;</td><td class='hellipsis'>&#x22EE;</td><td class='hellipsis'>&#x22EE;</td><td class='hellipsis'>&#x22EE;</td><td class='hellipsis'>&#x22F1;</td><td class='hellipsis'>&#x22EE;</td><td class='hellipsis'>&#x22EE;</td><td class='hellipsis'>&#x22EE;</td><td class='hellipsis'>&#x22EE;</td><td class='hellipsis'>&#x22EE;</td></tr>\n",
       "    <tr><td class='row_index'>194,212</td><td>ViceIndustryTokenSale</td><td>1/15/2019 9:00</td><td>1/15/2019 9:00</td><td>0</td><td>0</td><td>21</td><td>8.90252</td><td>1</td><td>1</td><td>0</td><td class=vellipsis>&hellip;</td><td>1/3/2010 0:00</td><td>[\"44.8.165.36\"]</td><td>1033@gmail.com</td><td>2564</td><td>9720</td></tr>\n",
       "    <tr><td class='row_index'>194,213</td><td>waterhole</td><td>1/15/2019 9:00</td><td>1/15/2019 9:00</td><td>2191</td><td>897.383</td><td>0</td><td>0</td><td>25</td><td>66</td><td>16</td><td class=vellipsis>&hellip;</td><td>6/3/2009 0:00</td><td>[\"196.178.48.215\"]</td><td>908@gmail.com</td><td>5380</td><td>4179</td></tr>\n",
       "    <tr><td class='row_index'>194,214</td><td>xBTCWallet</td><td>1/15/2019 9:00</td><td>1/15/2019 9:00</td><td>7</td><td>0.35</td><td>7</td><td>1.11473</td><td>0</td><td>1</td><td>0</td><td class=vellipsis>&hellip;</td><td>9/29/1997 0:00</td><td>[\"102.180.85.143\"]</td><td>4752@gmail.com</td><td>1226</td><td>1873</td></tr>\n",
       "    <tr><td class='row_index'>194,215</td><td>Yobit</td><td>1/15/2019 9:00</td><td>1/15/2019 9:00</td><td>0</td><td>0</td><td>14217</td><td>7101.78</td><td>119</td><td>403</td><td>127</td><td class=vellipsis>&hellip;</td><td>11/20/1995 0:00</td><td>[\"203.76.29.173\"]</td><td>5689@gmail.com</td><td>2828</td><td>7070</td></tr>\n",
       "    <tr><td class='row_index'>194,216</td><td>ZebiWallet</td><td>1/15/2019 9:00</td><td>1/15/2019 9:00</td><td>7</td><td>175</td><td>7</td><td>3.43</td><td>0</td><td>0</td><td>0</td><td class=vellipsis>&hellip;</td><td>3/26/1994 0:00</td><td>[\"13.55.236.251\"]</td><td>6869@gmail.com</td><td>3134</td><td>5065</td></tr>\n",
       "  </tbody>\n",
       "  </table>\n",
       "  <div class='footer'>\n",
       "    <div class='frame_dimensions'>194,217 rows &times; 17 columns</div>\n",
       "  </div>\n",
       "</div>\n"
      ],
      "text/plain": [
       "<Frame#7f6af7f59060 194217x17>"
      ]
     },
     "execution_count": 10,
     "metadata": {},
     "output_type": "execute_result"
    }
   ],
   "source": [
    "dt_nodes[:,:]"
   ]
  },
  {
   "cell_type": "code",
   "execution_count": 12,
   "metadata": {},
   "outputs": [
    {
     "data": {
      "text/html": [
       "<div class='datatable'>\n",
       "  <table class='frame'>\n",
       "  <thead>\n",
       "    <tr class='colnames'><td class='row_index'></td><th>cid</th><th>first_datetime</th><th>last_datetime</th><th>count_of_sending</th><th>amount_of_sending</th><th>count_of_receiving</th><th>amount_of_receiving</th><th>count_of_rbwm_csem_connections</th><th>count_of_non_rbwm_csem_connections</th><th>count_of_rbwm_caut_connections</th><th class='vellipsis'>&hellip;</th><th>join_date</th><th>ip_address_array</th><th>email</th><th>home_tel_number</th><th>mobile_pager_number</th></tr>\n",
       "    <tr class='coltypes'><td class='row_index'></td><td class='str' title='str32'>&#x25AA;&#x25AA;&#x25AA;&#x25AA;</td><td class='str' title='str32'>&#x25AA;&#x25AA;&#x25AA;&#x25AA;</td><td class='str' title='str32'>&#x25AA;&#x25AA;&#x25AA;&#x25AA;</td><td class='int' title='int32'>&#x25AA;&#x25AA;&#x25AA;&#x25AA;</td><td class='float' title='float64'>&#x25AA;&#x25AA;&#x25AA;&#x25AA;&#x25AA;&#x25AA;&#x25AA;&#x25AA;</td><td class='int' title='int32'>&#x25AA;&#x25AA;&#x25AA;&#x25AA;</td><td class='float' title='float64'>&#x25AA;&#x25AA;&#x25AA;&#x25AA;&#x25AA;&#x25AA;&#x25AA;&#x25AA;</td><td class='int' title='int32'>&#x25AA;&#x25AA;&#x25AA;&#x25AA;</td><td class='int' title='int32'>&#x25AA;&#x25AA;&#x25AA;&#x25AA;</td><td class='int' title='int32'>&#x25AA;&#x25AA;&#x25AA;&#x25AA;</td><td></td><td class='str' title='str32'>&#x25AA;&#x25AA;&#x25AA;&#x25AA;</td><td class='str' title='str32'>&#x25AA;&#x25AA;&#x25AA;&#x25AA;</td><td class='str' title='str32'>&#x25AA;&#x25AA;&#x25AA;&#x25AA;</td><td class='int' title='int32'>&#x25AA;&#x25AA;&#x25AA;&#x25AA;</td><td class='int' title='int32'>&#x25AA;&#x25AA;&#x25AA;&#x25AA;</td></tr>\n",
       "  </thead>\n",
       "  <tbody>\n",
       "    <tr><td class='row_index'>0</td><td>Ethermine</td><td>1/15/2019 9:00</td><td>1/15/2019 9:00</td><td>157122</td><td>23829.6</td><td>0</td><td>0</td><td>1362</td><td>4165</td><td>1298</td><td class=vellipsis>&hellip;</td><td>2/15/2010 0:00</td><td>[\"211.123.238.57\"]</td><td>6699@gmail.com</td><td>7975</td><td>9778</td></tr>\n",
       "    <tr><td class='row_index'>1</td><td>ethfans.org_2</td><td>1/15/2019 9:00</td><td>1/15/2019 9:00</td><td>125216</td><td>23481.2</td><td>0</td><td>0</td><td>1144</td><td>3521</td><td>1119</td><td class=vellipsis>&hellip;</td><td>6/13/2011 0:00</td><td>[\"80.230.145.35\"]</td><td>4964@gmail.com</td><td>5487</td><td>2542</td></tr>\n",
       "    <tr><td class='row_index'>2</td><td>f2pool_2</td><td>1/15/2019 9:00</td><td>1/15/2019 9:00</td><td>98007</td><td>13304.1</td><td>0</td><td>0</td><td>899</td><td>2808</td><td>854</td><td class=vellipsis>&hellip;</td><td>5/1/2011 0:00</td><td>[\"75.161.70.123\"]</td><td>5928@gmail.com</td><td>1566</td><td>46</td></tr>\n",
       "    <tr><td class='row_index'>3</td><td>Nanopool</td><td>1/15/2019 9:00</td><td>1/15/2019 9:00</td><td>90118</td><td>13206.1</td><td>0</td><td>0</td><td>748</td><td>2541</td><td>699</td><td class=vellipsis>&hellip;</td><td>8/21/2007 0:00</td><td>[\"91.203.233.48\"]</td><td>259@gmail.com</td><td>1791</td><td>8180</td></tr>\n",
       "    <tr><td class='row_index'>4</td><td>0xad68942a95fdd56594aa5cf862b358790e37834c</td><td>1/15/2019 9:00</td><td>1/15/2019 9:00</td><td>43001</td><td>9.02836</td><td>0</td><td>0</td><td>360</td><td>1227</td><td>415</td><td class=vellipsis>&hellip;</td><td>11/14/2009 0:00</td><td>[\"67.253.43.222\"]</td><td>3604@gmail.com</td><td>1004</td><td>4206</td></tr>\n",
       "    <tr><td class='row_index'>5</td><td>Bittrex</td><td>1/15/2019 9:00</td><td>1/15/2019 9:00</td><td>17794</td><td>110208</td><td>0</td><td>0</td><td>159</td><td>469</td><td>124</td><td class=vellipsis>&hellip;</td><td>1/31/1995 0:00</td><td>[\"123.29.31.68\"]</td><td>7108@gmail.com</td><td>920</td><td>3277</td></tr>\n",
       "    <tr><td class='row_index'>6</td><td>DwarfPool1</td><td>1/15/2019 9:00</td><td>1/15/2019 9:00</td><td>17717</td><td>2874.15</td><td>0</td><td>0</td><td>168</td><td>545</td><td>153</td><td class=vellipsis>&hellip;</td><td>7/31/2003 0:00</td><td>[\"232.239.242.239\"]</td><td>6469@gmail.com</td><td>6103</td><td>1111</td></tr>\n",
       "    <tr><td class='row_index'>7</td><td>miningpoolhub_1</td><td>1/15/2019 9:00</td><td>1/15/2019 9:00</td><td>15505</td><td>8896.96</td><td>28</td><td>497.385</td><td>132</td><td>416</td><td>112</td><td class=vellipsis>&hellip;</td><td>4/1/2009 0:00</td><td>[\"142.119.171.243\"]</td><td>9386@gmail.com</td><td>2856</td><td>6123</td></tr>\n",
       "    <tr><td class='row_index'>8</td><td>0x236f9f97e0e62388479bf9e5ba4889e46b0273c3</td><td>1/15/2019 9:00</td><td>1/15/2019 9:00</td><td>14385</td><td>37832.8</td><td>6223</td><td>88528</td><td>145</td><td>518</td><td>136</td><td class=vellipsis>&hellip;</td><td>12/23/2012 0:00</td><td>[\"39.49.130.246\"]</td><td>230@gmail.com</td><td>7678</td><td>7700</td></tr>\n",
       "    <tr><td class='row_index'>9</td><td>BinanceWallet</td><td>1/15/2019 9:00</td><td>1/15/2019 9:00</td><td>12887</td><td>250978</td><td>39606</td><td>293844</td><td>442</td><td>1427</td><td>453</td><td class=vellipsis>&hellip;</td><td>3/28/2000 0:00</td><td>[\"19.88.126.115\"]</td><td>3222@gmail.com</td><td>1628</td><td>8475</td></tr>\n",
       "    <tr><td class='row_index'>10</td><td>0x0681d8db095565fe8a346fa0277bffde9c0edbbf</td><td>1/15/2019 9:00</td><td>1/15/2019 9:00</td><td>12845</td><td>117851</td><td>14</td><td>94983</td><td>114</td><td>374</td><td>114</td><td class=vellipsis>&hellip;</td><td>6/23/1995 0:00</td><td>[\"216.11.176.81\",\"62.36.248.113\"]</td><td>4830@gmail.com</td><td>6883</td><td>9928</td></tr>\n",
       "    <tr><td class='row_index'>11</td><td>BinanceWallet_2</td><td>1/15/2019 9:00</td><td>1/15/2019 9:00</td><td>12621</td><td>97425.8</td><td>14</td><td>85715</td><td>110</td><td>382</td><td>100</td><td class=vellipsis>&hellip;</td><td>2/17/2006 0:00</td><td>[\"182.49.210.140\"]</td><td>2526@gmail.com</td><td>9441</td><td>9628</td></tr>\n",
       "    <tr><td class='row_index'>12</td><td>0x05ee546c1a62f90d7acbffd6d846c9c54c7cf94c</td><td>1/15/2019 9:00</td><td>1/15/2019 9:00</td><td>12572</td><td>41878.8</td><td>7616</td><td>55081.2</td><td>154</td><td>452</td><td>143</td><td class=vellipsis>&hellip;</td><td>9/12/2015 0:00</td><td>[\"143.237.247.16\",\"37.22.251.173\"]</td><td>2695@gmail.com</td><td>4130</td><td>2566</td></tr>\n",
       "    <tr><td class='row_index'>13</td><td>0x2b5634c42055806a59e9107ed44d43c426e58258</td><td>1/15/2019 9:00</td><td>1/15/2019 9:00</td><td>9548</td><td>37532.9</td><td>6258</td><td>36521.8</td><td>138</td><td>425</td><td>144</td><td class=vellipsis>&hellip;</td><td>10/10/2008 0:00</td><td>[\"236.34.226.7\"]</td><td>8025@gmail.com</td><td>1420</td><td>3025</td></tr>\n",
       "    <tr><td class='row_index'>14</td><td>Kraken_4</td><td>1/15/2019 9:00</td><td>1/15/2019 9:00</td><td>9296</td><td>89933.2</td><td>0</td><td>0</td><td>60</td><td>238</td><td>67</td><td class=vellipsis>&hellip;</td><td>1/19/2004 0:00</td><td>[\"100.90.150.223\"]</td><td>8128@gmail.com</td><td>5938</td><td>5308</td></tr>\n",
       "    <tr><td class='row_index'>&#x22EE;</td><td class='hellipsis'>&#x22EE;</td><td class='hellipsis'>&#x22EE;</td><td class='hellipsis'>&#x22EE;</td><td class='hellipsis'>&#x22EE;</td><td class='hellipsis'>&#x22EE;</td><td class='hellipsis'>&#x22EE;</td><td class='hellipsis'>&#x22EE;</td><td class='hellipsis'>&#x22EE;</td><td class='hellipsis'>&#x22EE;</td><td class='hellipsis'>&#x22EE;</td><td class='hellipsis'>&#x22F1;</td><td class='hellipsis'>&#x22EE;</td><td class='hellipsis'>&#x22EE;</td><td class='hellipsis'>&#x22EE;</td><td class='hellipsis'>&#x22EE;</td><td class='hellipsis'>&#x22EE;</td></tr>\n",
       "    <tr><td class='row_index'>194,212</td><td>TenXMultiSig</td><td>1/15/2019 9:00</td><td>1/15/2019 9:00</td><td>0</td><td>0</td><td>7</td><td>17572.8</td><td>0</td><td>1</td><td>0</td><td class=vellipsis>&hellip;</td><td>7/11/2006 0:00</td><td>[\"55.153.90.248\"]</td><td>608@gmail.com</td><td>5904</td><td>7697</td></tr>\n",
       "    <tr><td class='row_index'>194,213</td><td>TokiaToken</td><td>1/15/2019 9:00</td><td>1/15/2019 9:00</td><td>0</td><td>0</td><td>35</td><td>52.6273</td><td>1</td><td>0</td><td>0</td><td class=vellipsis>&hellip;</td><td>1/14/1996 0:00</td><td>[\"60.21.182.82\"]</td><td>5251@gmail.com</td><td>3412</td><td>1307</td></tr>\n",
       "    <tr><td class='row_index'>194,214</td><td>TraderlyCrowdsale</td><td>1/15/2019 9:00</td><td>1/15/2019 9:00</td><td>0</td><td>0</td><td>7</td><td>0.686</td><td>0</td><td>1</td><td>0</td><td class=vellipsis>&hellip;</td><td>11/6/2012 0:00</td><td>[\"117.88.86.168\"]</td><td>6300@gmail.com</td><td>7581</td><td>9005</td></tr>\n",
       "    <tr><td class='row_index'>194,215</td><td>ViceIndustryTokenSale</td><td>1/15/2019 9:00</td><td>1/15/2019 9:00</td><td>0</td><td>0</td><td>21</td><td>8.90252</td><td>1</td><td>1</td><td>0</td><td class=vellipsis>&hellip;</td><td>1/3/2010 0:00</td><td>[\"44.8.165.36\"]</td><td>1033@gmail.com</td><td>2564</td><td>9720</td></tr>\n",
       "    <tr><td class='row_index'>194,216</td><td>Yobit</td><td>1/15/2019 9:00</td><td>1/15/2019 9:00</td><td>0</td><td>0</td><td>14217</td><td>7101.78</td><td>119</td><td>403</td><td>127</td><td class=vellipsis>&hellip;</td><td>11/20/1995 0:00</td><td>[\"203.76.29.173\"]</td><td>5689@gmail.com</td><td>2828</td><td>7070</td></tr>\n",
       "  </tbody>\n",
       "  </table>\n",
       "  <div class='footer'>\n",
       "    <div class='frame_dimensions'>194,217 rows &times; 17 columns</div>\n",
       "  </div>\n",
       "</div>\n"
      ],
      "text/plain": [
       "<Frame#7f6af7f59e40 194217x17>"
      ]
     },
     "execution_count": 12,
     "metadata": {},
     "output_type": "execute_result"
    }
   ],
   "source": [
    "dt_nodes[:,:,sort(f.count_of_sending,reverse=True)]"
   ]
  },
  {
   "cell_type": "code",
   "execution_count": 4,
   "metadata": {},
   "outputs": [],
   "source": [
    "dt_edge = dt.fread(\"/tmp/links.csv\")"
   ]
  },
  {
   "cell_type": "code",
   "execution_count": 7,
   "metadata": {},
   "outputs": [
    {
     "data": {
      "text/html": [
       "<div class='datatable'>\n",
       "  <table class='frame'>\n",
       "  <thead>\n",
       "    <tr class='colnames'><td class='row_index'></td><th>sender</th><th>receiver</th><th>sender_cds_caut</th><th>receiver_cds_caut</th><th>sender_cds_csem</th><th>receiver_cds_csem</th><th>sender_csem_exit</th><th>receiver_csem_exit</th><th>first_datetime</th><th>last_datetime</th><th>count_of_sending</th><th>count_of_receiving</th><th>amount_of_sending</th><th>amount_of_receiving</th></tr>\n",
       "    <tr class='coltypes'><td class='row_index'></td><td class='str' title='str32'>&#x25AA;&#x25AA;&#x25AA;&#x25AA;</td><td class='str' title='str32'>&#x25AA;&#x25AA;&#x25AA;&#x25AA;</td><td class='bool' title='bool8'>&#x25AA;</td><td class='bool' title='bool8'>&#x25AA;</td><td class='bool' title='bool8'>&#x25AA;</td><td class='bool' title='bool8'>&#x25AA;</td><td class='bool' title='bool8'>&#x25AA;</td><td class='bool' title='bool8'>&#x25AA;</td><td class='str' title='str32'>&#x25AA;&#x25AA;&#x25AA;&#x25AA;</td><td class='str' title='str32'>&#x25AA;&#x25AA;&#x25AA;&#x25AA;</td><td class='int' title='int32'>&#x25AA;&#x25AA;&#x25AA;&#x25AA;</td><td class='int' title='int32'>&#x25AA;&#x25AA;&#x25AA;&#x25AA;</td><td class='float' title='float64'>&#x25AA;&#x25AA;&#x25AA;&#x25AA;&#x25AA;&#x25AA;&#x25AA;&#x25AA;</td><td class='float' title='float64'>&#x25AA;&#x25AA;&#x25AA;&#x25AA;&#x25AA;&#x25AA;&#x25AA;&#x25AA;</td></tr>\n",
       "  </thead>\n",
       "  <tbody>\n",
       "    <tr><td class='row_index'>0</td><td>0x34c8a5402e03d14d87c6e239883e8f55d17aaa59</td><td>ViceIndustryTokenSale</td><td>0</td><td>1</td><td>0</td><td>0</td><td><span class=na>NA</span></td><td><span class=na>NA</span></td><td>5/15/2018 9:00</td><td>1/15/2019 9:00</td><td>7</td><td>0</td><td>3.85</td><td>0</td></tr>\n",
       "    <tr><td class='row_index'>1</td><td>0x5d4458586b54587a3cbd855786bab900e8b23034</td><td>ViceIndustryTokenSale</td><td>0</td><td>1</td><td>1</td><td>0</td><td><span class=na>NA</span></td><td><span class=na>NA</span></td><td>5/15/2018 9:00</td><td>1/15/2019 9:00</td><td>7</td><td>0</td><td>3.5</td><td>0</td></tr>\n",
       "    <tr><td class='row_index'>2</td><td>0x90b94d1d8e85dc1ef28d11d7ed0aa52ffb5adc28</td><td>ViceIndustryTokenSale</td><td>0</td><td>1</td><td>1</td><td>0</td><td><span class=na>NA</span></td><td><span class=na>NA</span></td><td>5/15/2018 9:00</td><td>1/15/2019 9:00</td><td>7</td><td>0</td><td>1.55252</td><td>0</td></tr>\n",
       "  </tbody>\n",
       "  </table>\n",
       "  <div class='footer'>\n",
       "    <div class='frame_dimensions'>3 rows &times; 14 columns</div>\n",
       "  </div>\n",
       "</div>\n"
      ],
      "text/plain": [
       "<Frame#7f6afc531e70 3x14>"
      ]
     },
     "execution_count": 7,
     "metadata": {},
     "output_type": "execute_result"
    }
   ],
   "source": [
    "dt_edge[f.receiver == \"ViceIndustryTokenSale\",:]"
   ]
  },
  {
   "cell_type": "code",
   "execution_count": null,
   "metadata": {},
   "outputs": [],
   "source": []
  }
 ],
 "metadata": {
  "kernelspec": {
   "display_name": "Python 3",
   "language": "python",
   "name": "python3"
  },
  "language_info": {
   "codemirror_mode": {
    "name": "ipython",
    "version": 3
   },
   "file_extension": ".py",
   "mimetype": "text/x-python",
   "name": "python",
   "nbconvert_exporter": "python",
   "pygments_lexer": "ipython3",
   "version": "3.8.8"
  }
 },
 "nbformat": 4,
 "nbformat_minor": 4
}